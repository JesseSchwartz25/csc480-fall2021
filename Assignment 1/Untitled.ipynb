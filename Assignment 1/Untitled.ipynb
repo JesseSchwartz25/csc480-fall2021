{
 "cells": [
  {
   "cell_type": "code",
   "execution_count": 1,
   "id": "ebd4647d",
   "metadata": {},
   "outputs": [],
   "source": [
    "from sklearn.datasets import fetch_openml\n",
    "from sklearn.tree import DecisionTreeClassifier\n",
    "from sklearn.neural_network import MLPClassifier\n",
    "from sklearn.model_selection import cross_val_score\n",
    "import pandas\n",
    "\n",
    "qsar = fetch_openml(name='qsar-biodeg', version=1)\n",
    "\n",
    "# classifiers = [\n",
    "#     DecisionTreeClassifier(criterion=\"entropy\"),\n",
    "#     MLPClassifier(alpha=1, max_iter=1000)]\n",
    "\n",
    "# print(datasets)"
   ]
  },
  {
   "cell_type": "code",
   "execution_count": 2,
   "id": "b65f3123",
   "metadata": {},
   "outputs": [],
   "source": [
    "X = qsar.data\n",
    "# print(X)\n",
    "y = qsar.target\n",
    "# print(y)\n",
    "# sample = 0\n",
    "# for i in y:\n",
    "#     print(i, end='')\n",
    "#     if i == '2': #values are stored as strings, not ints\n",
    "#         sample  += 1\n",
    "# #         print('test')\n",
    "        \n",
    "# print('\\n', sample)\n",
    "\n",
    "# print(X[y == '2'])\n",
    "\n",
    "# 699 of class 1, 356 of class 2"
   ]
  },
  {
   "cell_type": "code",
   "execution_count": 3,
   "id": "2f46d859",
   "metadata": {},
   "outputs": [
    {
     "data": {
      "text/plain": [
       "DecisionTreeClassifier(criterion='entropy')"
      ]
     },
     "execution_count": 3,
     "metadata": {},
     "output_type": "execute_result"
    }
   ],
   "source": [
    "clf = DecisionTreeClassifier(criterion=\"entropy\")\n",
    "clf.fit(X,y)"
   ]
  },
  {
   "cell_type": "code",
   "execution_count": 4,
   "id": "6b17f6cb",
   "metadata": {},
   "outputs": [
    {
     "name": "stdout",
     "output_type": "stream",
     "text": [
      "0.790377358490566\n"
     ]
    }
   ],
   "source": [
    "scores = cross_val_score(clf, X, y, cv=10)\n",
    "y_pred = clf.predict(X)\n",
    "print(scores.mean())\n",
    "# print(y_pred)\n"
   ]
  },
  {
   "cell_type": "code",
   "execution_count": 5,
   "id": "5a61783e",
   "metadata": {},
   "outputs": [
    {
     "name": "stdout",
     "output_type": "stream",
     "text": [
      "                    AUC        F1  Precision    Recall    G-Mean\n",
      "Decision Tree                                                   \n",
      "Do Nothing     0.774034  0.789142   0.790007  0.786586  0.788294\n"
     ]
    }
   ],
   "source": [
    "from sklearn.metrics import precision_score, roc_auc_score, recall_score, f1_score \n",
    "from sklearn.metrics import make_scorer\n",
    "import numpy as np\n",
    "\n",
    "\n",
    "# g-mean = sqrt(precision * recall)\n",
    "\n",
    "eval_metrics_names = ['AUC', 'F1 Measure', 'G-Mean', 'Precision', 'Recall']\n",
    "\n",
    "# scoring = {'precision' : make_scorer(precision_score),\n",
    "#           'recall' : make_scorer(recall_score),\n",
    "#           'auc' : make_scorer(roc_auc_score),\n",
    "#           'f_score' : make_scorer(f1_score)}\n",
    "\n",
    "\n",
    "# print(y, y_pred)\n",
    "\n",
    "\n",
    "# We can append the values of all the scores we calculate into the tree_scores dictionary\n",
    "tree_scores = {\n",
    "    'AUC': [],\n",
    "    'F1': [],\n",
    "    'Precision': [],\n",
    "    'Recall': [],\n",
    "    'G-Mean': []\n",
    "}\n",
    "\n",
    "\n",
    "auc_score = cross_val_score(clf, X, y, cv=10, scoring='roc_auc').mean()\n",
    "tree_scores['AUC'].append(auc_score)\n",
    "# print(auc_score)\n",
    "\n",
    "f_score = cross_val_score(clf, X, y, cv=10, scoring='f1_weighted').mean()\n",
    "tree_scores['F1'].append(f_score)\n",
    "# print(f_score)\n",
    "\n",
    "prc_score = cross_val_score(clf, X, y, cv=10, scoring='precision_weighted').mean()\n",
    "tree_scores['Precision'].append(prc_score)\n",
    "# print(prc_score)  \n",
    "\n",
    "rec_score = cross_val_score(clf, X, y, cv=10, scoring='recall_weighted').mean()\n",
    "tree_scores['Recall'].append(rec_score)\n",
    "# print(rec_score)  \n",
    "\n",
    "g_mean = np.sqrt(rec_score * prc_score)\n",
    "tree_scores['G-Mean'].append(g_mean)\n",
    "# print(g_mean)\n",
    "\n",
    "\n",
    "\n",
    "tree_scores_df = pandas.DataFrame(data=tree_scores)\n",
    "tree_scores_df = tree_scores_df.rename(index={0:\"Do Nothing\", 1:\"SMOTE\"})\n",
    "tree_scores_df = tree_scores_df.rename_axis(\"Decision Tree\")\n",
    "# print(tree_scores)\n",
    "print(tree_scores_df)\n",
    "\n",
    "\n",
    "\n",
    "\n",
    "\n",
    "\n",
    "\n",
    "# This is for an unchanged data qsar data set using a decision tree. do the same for MLP\n",
    "# and for each type of data resampling\n",
    "# make this into a table\n",
    "\n"
   ]
  },
  {
   "cell_type": "code",
   "execution_count": 6,
   "id": "65e45bc9",
   "metadata": {},
   "outputs": [
    {
     "name": "stdout",
     "output_type": "stream",
     "text": [
      "0.8584069886947585\n"
     ]
    }
   ],
   "source": [
    "from imblearn.over_sampling import SMOTE\n",
    "oversample = SMOTE()\n",
    "X, y = oversample.fit_resample(X, y)\n",
    "\n",
    "\n",
    "clf = DecisionTreeClassifier(criterion=\"entropy\")\n",
    "clf.fit(X,y)\n",
    "\n",
    "\n",
    "scores = cross_val_score(clf, X, y, cv=10)\n",
    "y_pred = clf.predict(X)\n",
    "print(scores.mean())"
   ]
  },
  {
   "cell_type": "code",
   "execution_count": 7,
   "id": "ba00175f",
   "metadata": {},
   "outputs": [
    {
     "name": "stdout",
     "output_type": "stream",
     "text": [
      "                    AUC        F1  Precision    Recall    G-Mean\n",
      "Decision Tree                                                   \n",
      "Do Nothing     0.774034  0.789142   0.790007  0.786586  0.788294\n",
      "SMOTE          0.859110  0.857927   0.869816  0.862693  0.866247\n"
     ]
    }
   ],
   "source": [
    "auc_score = cross_val_score(clf, X, y, cv=10, scoring='roc_auc').mean()\n",
    "tree_scores['AUC'].append(auc_score)\n",
    "# print(auc_score)\n",
    "\n",
    "f_score = cross_val_score(clf, X, y, cv=10, scoring='f1_weighted').mean()\n",
    "tree_scores['F1'].append(f_score)\n",
    "# print(f_score)\n",
    "\n",
    "prc_score = cross_val_score(clf, X, y, cv=10, scoring='precision_weighted').mean()\n",
    "tree_scores['Precision'].append(prc_score)\n",
    "# print(prc_score)  \n",
    "\n",
    "rec_score = cross_val_score(clf, X, y, cv=10, scoring='recall_weighted').mean()\n",
    "tree_scores['Recall'].append(rec_score)\n",
    "# print(rec_score)  \n",
    "\n",
    "g_mean = np.sqrt(rec_score * prc_score)\n",
    "tree_scores['G-Mean'].append(g_mean)\n",
    "# print(g_mean)\n",
    "\n",
    "tree_scores_df = pandas.DataFrame(data=tree_scores)\n",
    "tree_scores_df = tree_scores_df.rename(index={0:\"Do Nothing\", 1:\"SMOTE\"})\n",
    "tree_scores_df = tree_scores_df.rename_axis(\"Decision Tree\")\n",
    "print(tree_scores_df)\n",
    "\n",
    "\n"
   ]
  },
  {
   "cell_type": "code",
   "execution_count": 8,
   "id": "5e28d829",
   "metadata": {},
   "outputs": [
    {
     "data": {
      "text/html": [
       "<div>\n",
       "<style scoped>\n",
       "    .dataframe tbody tr th:only-of-type {\n",
       "        vertical-align: middle;\n",
       "    }\n",
       "\n",
       "    .dataframe tbody tr th {\n",
       "        vertical-align: top;\n",
       "    }\n",
       "\n",
       "    .dataframe thead th {\n",
       "        text-align: right;\n",
       "    }\n",
       "</style>\n",
       "<table border=\"1\" class=\"dataframe\">\n",
       "  <thead>\n",
       "    <tr style=\"text-align: right;\">\n",
       "      <th></th>\n",
       "      <th>AUC</th>\n",
       "      <th>F1</th>\n",
       "      <th>Precision</th>\n",
       "      <th>Recall</th>\n",
       "      <th>G-Mean</th>\n",
       "    </tr>\n",
       "    <tr>\n",
       "      <th>Decision Tree</th>\n",
       "      <th></th>\n",
       "      <th></th>\n",
       "      <th></th>\n",
       "      <th></th>\n",
       "      <th></th>\n",
       "    </tr>\n",
       "  </thead>\n",
       "  <tbody>\n",
       "    <tr>\n",
       "      <th>Do Nothing</th>\n",
       "      <td>0.774034</td>\n",
       "      <td>0.789142</td>\n",
       "      <td>0.790007</td>\n",
       "      <td>0.786586</td>\n",
       "      <td>0.788294</td>\n",
       "    </tr>\n",
       "    <tr>\n",
       "      <th>SMOTE</th>\n",
       "      <td>0.859110</td>\n",
       "      <td>0.857927</td>\n",
       "      <td>0.869816</td>\n",
       "      <td>0.862693</td>\n",
       "      <td>0.866247</td>\n",
       "    </tr>\n",
       "  </tbody>\n",
       "</table>\n",
       "</div>"
      ],
      "text/plain": [
       "                    AUC        F1  Precision    Recall    G-Mean\n",
       "Decision Tree                                                   \n",
       "Do Nothing     0.774034  0.789142   0.790007  0.786586  0.788294\n",
       "SMOTE          0.859110  0.857927   0.869816  0.862693  0.866247"
      ]
     },
     "execution_count": 8,
     "metadata": {},
     "output_type": "execute_result"
    }
   ],
   "source": [
    "tree_scores_df"
   ]
  },
  {
   "cell_type": "markdown",
   "id": "0f9fcc54",
   "metadata": {},
   "source": [
    "# now doing the same but for MLP"
   ]
  },
  {
   "cell_type": "code",
   "execution_count": 9,
   "id": "6b7929e2",
   "metadata": {},
   "outputs": [
    {
     "data": {
      "text/plain": [
       "MLPClassifier(alpha=1, max_iter=1000)"
      ]
     },
     "execution_count": 9,
     "metadata": {},
     "output_type": "execute_result"
    }
   ],
   "source": [
    "X = qsar.data\n",
    "y = qsar.target\n",
    "\n",
    "clf = MLPClassifier(alpha=1, max_iter=1000)\n",
    "clf.fit(X, y)"
   ]
  },
  {
   "cell_type": "code",
   "execution_count": 10,
   "id": "58bce78c",
   "metadata": {},
   "outputs": [
    {
     "name": "stdout",
     "output_type": "stream",
     "text": [
      "0.8558131176999103\n"
     ]
    }
   ],
   "source": [
    "scores = cross_val_score(clf, X, y, cv=10)\n",
    "y_pred = clf.predict(X)\n",
    "print(scores.mean())"
   ]
  },
  {
   "cell_type": "code",
   "execution_count": 11,
   "id": "299d6809",
   "metadata": {},
   "outputs": [],
   "source": [
    "mlp_scores = {\n",
    "    'AUC': [],\n",
    "    'F1': [],\n",
    "    'Precision': [],\n",
    "    'Recall': [],\n",
    "    'G-Mean': []\n",
    "}\n",
    "\n",
    "\n",
    "auc_score = cross_val_score(clf, X, y, cv=10, scoring='roc_auc').mean()\n",
    "mlp_scores['AUC'].append(auc_score)\n",
    "# print(auc_score)\n",
    "\n",
    "f_score = cross_val_score(clf, X, y, cv=10, scoring='f1_weighted').mean()\n",
    "mlp_scores['F1'].append(f_score)\n",
    "# print(f_score)\n",
    "\n",
    "prc_score = cross_val_score(clf, X, y, cv=10, scoring='precision_weighted').mean()\n",
    "mlp_scores['Precision'].append(prc_score)\n",
    "# print(prc_score)  \n",
    "\n",
    "rec_score = cross_val_score(clf, X, y, cv=10, scoring='recall_weighted').mean()\n",
    "mlp_scores['Recall'].append(rec_score)\n",
    "# print(rec_score)  \n",
    "\n",
    "g_mean = np.sqrt(rec_score * prc_score)\n",
    "mlp_scores['G-Mean'].append(g_mean)\n",
    "# print(g_mean)"
   ]
  },
  {
   "cell_type": "code",
   "execution_count": 12,
   "id": "d4289cee",
   "metadata": {},
   "outputs": [
    {
     "name": "stdout",
     "output_type": "stream",
     "text": [
      "0.8748920863309353\n"
     ]
    }
   ],
   "source": [
    "oversample = SMOTE()\n",
    "X, y = oversample.fit_resample(X, y)\n",
    "\n",
    "\n",
    "clf = MLPClassifier(alpha=1, max_iter=1000)\n",
    "clf.fit(X,y)\n",
    "\n",
    "\n",
    "scores = cross_val_score(clf, X, y, cv=10)\n",
    "y_pred = clf.predict(X)\n",
    "print(scores.mean())"
   ]
  },
  {
   "cell_type": "code",
   "execution_count": 13,
   "id": "1cd9bd04",
   "metadata": {},
   "outputs": [
    {
     "name": "stdout",
     "output_type": "stream",
     "text": [
      "done\n"
     ]
    }
   ],
   "source": [
    "auc_score = cross_val_score(clf, X, y, cv=10, scoring='roc_auc').mean()\n",
    "mlp_scores['AUC'].append(auc_score)\n",
    "# print(auc_score)\n",
    "\n",
    "f_score = cross_val_score(clf, X, y, cv=10, scoring='f1_weighted').mean()\n",
    "mlp_scores['F1'].append(f_score)\n",
    "# print(f_score)\n",
    "\n",
    "prc_score = cross_val_score(clf, X, y, cv=10, scoring='precision_weighted').mean()\n",
    "mlp_scores['Precision'].append(prc_score)\n",
    "# print(prc_score)  \n",
    "\n",
    "rec_score = cross_val_score(clf, X, y, cv=10, scoring='recall_weighted').mean()\n",
    "mlp_scores['Recall'].append(rec_score)\n",
    "# print(rec_score)  \n",
    "\n",
    "g_mean = np.sqrt(rec_score * prc_score)\n",
    "mlp_scores['G-Mean'].append(g_mean)\n",
    "\n",
    "print('done')"
   ]
  },
  {
   "cell_type": "code",
   "execution_count": 15,
   "id": "edb22dd9",
   "metadata": {
    "scrolled": false
   },
   "outputs": [
    {
     "data": {
      "text/html": [
       "<div>\n",
       "<style scoped>\n",
       "    .dataframe tbody tr th:only-of-type {\n",
       "        vertical-align: middle;\n",
       "    }\n",
       "\n",
       "    .dataframe tbody tr th {\n",
       "        vertical-align: top;\n",
       "    }\n",
       "\n",
       "    .dataframe thead th {\n",
       "        text-align: right;\n",
       "    }\n",
       "</style>\n",
       "<table border=\"1\" class=\"dataframe\">\n",
       "  <thead>\n",
       "    <tr style=\"text-align: right;\">\n",
       "      <th></th>\n",
       "      <th>AUC</th>\n",
       "      <th>F1</th>\n",
       "      <th>Precision</th>\n",
       "      <th>Recall</th>\n",
       "      <th>G-Mean</th>\n",
       "    </tr>\n",
       "    <tr>\n",
       "      <th>MLP</th>\n",
       "      <th></th>\n",
       "      <th></th>\n",
       "      <th></th>\n",
       "      <th></th>\n",
       "      <th></th>\n",
       "    </tr>\n",
       "  </thead>\n",
       "  <tbody>\n",
       "    <tr>\n",
       "      <th>Do Nothing</th>\n",
       "      <td>0.919173</td>\n",
       "      <td>0.859846</td>\n",
       "      <td>0.867970</td>\n",
       "      <td>0.856810</td>\n",
       "      <td>0.862372</td>\n",
       "    </tr>\n",
       "    <tr>\n",
       "      <th>SMOTE</th>\n",
       "      <td>0.942444</td>\n",
       "      <td>0.863737</td>\n",
       "      <td>0.871928</td>\n",
       "      <td>0.867729</td>\n",
       "      <td>0.869826</td>\n",
       "    </tr>\n",
       "  </tbody>\n",
       "</table>\n",
       "</div>"
      ],
      "text/plain": [
       "                 AUC        F1  Precision    Recall    G-Mean\n",
       "MLP                                                          \n",
       "Do Nothing  0.919173  0.859846   0.867970  0.856810  0.862372\n",
       "SMOTE       0.942444  0.863737   0.871928  0.867729  0.869826"
      ]
     },
     "execution_count": 15,
     "metadata": {},
     "output_type": "execute_result"
    }
   ],
   "source": [
    "mlp_scores_df = pandas.DataFrame(data=mlp_scores)\n",
    "mlp_scores_df = mlp_scores_df.rename(index={0:\"Do Nothing\", 1:\"SMOTE\"})\n",
    "mlp_scores_df = mlp_scores_df.rename_axis(\"MLP\")\n",
    "\n",
    "mlp_scores_df"
   ]
  },
  {
   "cell_type": "markdown",
   "id": "f9bc253d",
   "metadata": {},
   "source": [
    "# Now on to Q3"
   ]
  },
  {
   "cell_type": "code",
   "execution_count": 53,
   "id": "9b2af08a",
   "metadata": {},
   "outputs": [],
   "source": [
    "# adding noise to the datasets\n",
    "from sklearn.model_selection import train_test_split\n",
    "\n",
    "\n",
    "# Inserting class noise consists of considering the data set X,y (from Q1. [If you used Q2 that's OK too, \n",
    "# but please discuss the inconsistencies that could have been inserted]) and flipping some of the values in y to the other class. \n",
    "# You can do this by using a for loop (which runs for 5% of the size of y; then 10%; etc..), \n",
    "# selecting a value at random (import random r=random.randint()) and flipping the value y[r] from its current class to the opposite one.\n",
    "\n",
    "\n",
    "X = qsar.data\n",
    "y = qsar.target\n",
    "\n",
    "X_train, X_test, y_train, y_test = train_test_split(X, y, random_state = 47, test_size = 0.33)"
   ]
  },
  {
   "cell_type": "code",
   "execution_count": 145,
   "id": "507bf50e",
   "metadata": {
    "scrolled": true
   },
   "outputs": [],
   "source": [
    "# applying the noise to the datasets\n",
    "import random\n",
    "\n",
    "y_train_5 = y_train.copy()\n",
    "y_train_10 = y_train.copy()\n",
    "y_train_15 = y_train.copy()\n",
    "y_train_20 = y_train.copy()\n",
    "\n",
    "# print(y_train_10)\n",
    "index = 0\n",
    "\n",
    "for i, j, k, l, m in zip(y_train, y_train_5, y_train_10, y_train_15, y_train_20):\n",
    "    r = random.randint(0, 99)\n",
    "    val = y_train.index[index]\n",
    "#     print (val, r)\n",
    "#     print(r)\n",
    "    if r <= 20:\n",
    "        y_train_20[val] = str(2*int(m)%3)\n",
    "    if r <= 15:\n",
    "        y_train_15[val] = str(2*int(l)%3)\n",
    "    if r <= 10:\n",
    "        y_train_10[val] = str(2*int(k)%3)\n",
    "    if r <= 5:\n",
    "        y_train_5[val]  = str(2*int(j)%3)\n",
    "#     print(i, y_train_5[val], y_train_10[val], y_train_15[val], y_train_20[val])\n",
    "    index += 1\n",
    "    \n"
   ]
  },
  {
   "cell_type": "code",
   "execution_count": 146,
   "id": "2a0276ab",
   "metadata": {
    "scrolled": true
   },
   "outputs": [
    {
     "name": "stdout",
     "output_type": "stream",
     "text": [
      "0.06940509915014165 0.11898016997167139 0.17280453257790368 0.22662889518413598\n",
      "49 84 122 160 706\n"
     ]
    }
   ],
   "source": [
    "# testing the training sets to make sure they have the correct amount of noise\n",
    "\n",
    "five = 0\n",
    "ten = 0\n",
    "fifteen = 0\n",
    "twenty = 0\n",
    "length = len(y_train)\n",
    "for i, j, k, l, m in zip(y_train, y_train_5, y_train_10, y_train_15, y_train_20):\n",
    "    \n",
    "    if(i != j): five += 1\n",
    "    if(i != k): ten += 1\n",
    "    if(i != l): fifteen += 1\n",
    "    if(i != m): twenty += 1\n",
    "#     print(i, j, k, l, m)\n",
    "    \n",
    "print(five/length, ten/length, fifteen/length, twenty/length)\n",
    "print(five, ten, fifteen, twenty, len(y_train))"
   ]
  },
  {
   "cell_type": "code",
   "execution_count": 169,
   "id": "5d5aab8b",
   "metadata": {},
   "outputs": [
    {
     "name": "stdout",
     "output_type": "stream",
     "text": [
      "[0.8191327500950932, 0.7611259033853176, 0.7464815519208825, 0.6891974134651959, 0.6420882464815519]\n"
     ]
    }
   ],
   "source": [
    "clf = DecisionTreeClassifier(criterion=\"entropy\")\n",
    "clf.fit(X_train,y_train)\n",
    "y_pred = clf.predict(X_test)\n",
    "\n",
    "auc_score = roc_auc_score(y_test, y_pred)\n",
    "# print(auc_score)\n",
    "\n",
    "# 5%\n",
    "clf.fit(X_train,y_train_5)\n",
    "y_pred = clf.predict(X_test)\n",
    "auc_score5 = roc_auc_score(y_test, y_pred)\n",
    "# print(auc_score5)\n",
    "\n",
    "# 10%\n",
    "clf.fit(X_train,y_train_10)\n",
    "y_pred = clf.predict(X_test)\n",
    "auc_score10 = roc_auc_score(y_test, y_pred)\n",
    "# print(auc_score10)\n",
    "\n",
    "# 15%\n",
    "clf.fit(X_train,y_train_15)\n",
    "y_pred = clf.predict(X_test)\n",
    "auc_score15 = roc_auc_score(y_test, y_pred)\n",
    "# print(auc_score15)\n",
    "\n",
    "# 20%\n",
    "clf.fit(X_train,y_train_20)\n",
    "y_pred = clf.predict(X_test)\n",
    "auc_score20 = roc_auc_score(y_test, y_pred)\n",
    "# print(auc_score20)\n",
    "\n",
    "tree_noise = [auc_score, auc_score5, auc_score10, auc_score15, auc_score20]\n",
    "print(tree_noise)\n"
   ]
  },
  {
   "cell_type": "code",
   "execution_count": 165,
   "id": "530d7659",
   "metadata": {},
   "outputs": [
    {
     "name": "stderr",
     "output_type": "stream",
     "text": [
      "/Users/jesseschwartz/opt/anaconda3/lib/python3.8/site-packages/sklearn/utils/validation.py:63: FutureWarning: Arrays of bytes/strings is being converted to decimal numbers if dtype='numeric'. This behavior is deprecated in 0.24 and will be removed in 1.1 (renaming of 0.26). Please convert your data to numeric values explicitly instead.\n",
      "  return f(*args, **kwargs)\n",
      "/Users/jesseschwartz/opt/anaconda3/lib/python3.8/site-packages/sklearn/utils/validation.py:63: FutureWarning: Arrays of bytes/strings is being converted to decimal numbers if dtype='numeric'. This behavior is deprecated in 0.24 and will be removed in 1.1 (renaming of 0.26). Please convert your data to numeric values explicitly instead.\n",
      "  return f(*args, **kwargs)\n",
      "/Users/jesseschwartz/opt/anaconda3/lib/python3.8/site-packages/sklearn/utils/validation.py:63: FutureWarning: Arrays of bytes/strings is being converted to decimal numbers if dtype='numeric'. This behavior is deprecated in 0.24 and will be removed in 1.1 (renaming of 0.26). Please convert your data to numeric values explicitly instead.\n",
      "  return f(*args, **kwargs)\n",
      "/Users/jesseschwartz/opt/anaconda3/lib/python3.8/site-packages/sklearn/utils/validation.py:63: FutureWarning: Arrays of bytes/strings is being converted to decimal numbers if dtype='numeric'. This behavior is deprecated in 0.24 and will be removed in 1.1 (renaming of 0.26). Please convert your data to numeric values explicitly instead.\n",
      "  return f(*args, **kwargs)\n"
     ]
    },
    {
     "name": "stdout",
     "output_type": "stream",
     "text": [
      "[0.8767021681247622, 0.8652339292506656, 0.8554203119056676, 0.8246861924686193, 0.7676112590338532]\n"
     ]
    },
    {
     "name": "stderr",
     "output_type": "stream",
     "text": [
      "/Users/jesseschwartz/opt/anaconda3/lib/python3.8/site-packages/sklearn/utils/validation.py:63: FutureWarning: Arrays of bytes/strings is being converted to decimal numbers if dtype='numeric'. This behavior is deprecated in 0.24 and will be removed in 1.1 (renaming of 0.26). Please convert your data to numeric values explicitly instead.\n",
      "  return f(*args, **kwargs)\n"
     ]
    }
   ],
   "source": [
    "clf = MLPClassifier(alpha=1, max_iter=500)\n",
    "clf.fit(X_train,y_train)\n",
    "y_pred = clf.predict(X_test)\n",
    "\n",
    "auc_score = roc_auc_score(y_test, y_pred)\n",
    "# print(auc_score)\n",
    "\n",
    "# 5%\n",
    "clf.fit(X_train,y_train_5)\n",
    "y_pred = clf.predict(X_test)\n",
    "auc_score5 = roc_auc_score(y_test, y_pred)\n",
    "# print(auc_score5)\n",
    "\n",
    "# 10%\n",
    "clf.fit(X_train,y_train_10)\n",
    "y_pred = clf.predict(X_test)\n",
    "auc_score10 = roc_auc_score(y_test, y_pred)\n",
    "# print(auc_score10)\n",
    "\n",
    "# 15%\n",
    "clf.fit(X_train,y_train_15)\n",
    "y_pred = clf.predict(X_test)\n",
    "auc_score15 = roc_auc_score(y_test, y_pred)\n",
    "# print(auc_score15)\n",
    "\n",
    "# 20%\n",
    "clf.fit(X_train,y_train_20)\n",
    "y_pred = clf.predict(X_test)\n",
    "auc_score20 = roc_auc_score(y_test, y_pred)\n",
    "# print(auc_score20)\n",
    "\n",
    "mlp_noise = [auc_score, auc_score5, auc_score10, auc_score15, auc_score20]\n",
    "print(mlp_noise)\n"
   ]
  },
  {
   "cell_type": "code",
   "execution_count": 202,
   "id": "dd9d15ce",
   "metadata": {},
   "outputs": [
    {
     "data": {
      "text/plain": [
       "<matplotlib.legend.Legend at 0x7fb7e1e74b50>"
      ]
     },
     "execution_count": 202,
     "metadata": {},
     "output_type": "execute_result"
    },
    {
     "data": {
      "image/png": "[encoded data removed]",
      "text/plain": [
       "<Figure size 432x288 with 1 Axes>"
      ]
     },
     "metadata": {
      "needs_background": "light"
     },
     "output_type": "display_data"
    }
   ],
   "source": [
    "import matplotlib.pyplot as plt\n",
    "\n",
    "noise = [0, 5, 10, 15, 20]\n",
    "\n",
    "plt.Figure()\n",
    "plt.title('Effect of noise on Classifiers')\n",
    "plt.plot(noise, tree_noise, marker='o')\n",
    "plt.plot(noise, mlp_noise, marker='o')\n",
    "plt.xlabel('Noise %')\n",
    "plt.ylabel('AUC score')\n",
    "plt.ylim(.50, 1)\n",
    "plt.legend(['Decision Tree', 'MLP'])"
   ]
  }
 ],
 "metadata": {
  "kernelspec": {
   "display_name": "Python 3 (ipykernel)",
   "language": "python",
   "name": "python3"
  },
  "language_info": {
   "codemirror_mode": {
    "name": "ipython",
    "version": 3
   },
   "file_extension": ".py",
   "mimetype": "text/x-python",
   "name": "python",
   "nbconvert_exporter": "python",
   "pygments_lexer": "ipython3",
   "version": "3.8.2"
  }
 },
 "nbformat": 4,
 "nbformat_minor": 5
}
