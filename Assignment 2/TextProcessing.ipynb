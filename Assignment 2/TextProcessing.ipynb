{
 "cells": [
  {
   "cell_type": "code",
   "execution_count": 1,
   "id": "83bc68c3",
   "metadata": {},
   "outputs": [],
   "source": [
    "from sklearn.datasets import fetch_20newsgroups\n",
    "twenty_train = fetch_20newsgroups(subset='train', shuffle=True, random_state=42)"
   ]
  },
  {
   "cell_type": "code",
   "execution_count": 2,
   "id": "b5788768",
   "metadata": {},
   "outputs": [
    {
     "data": {
      "text/plain": [
       "['alt.atheism',\n",
       " 'comp.sys.mac.hardware',\n",
       " 'rec.motorcycles',\n",
       " 'sci.electronics',\n",
       " 'talk.politics.guns']"
      ]
     },
     "execution_count": 2,
     "metadata": {},
     "output_type": "execute_result"
    }
   ],
   "source": [
    "categories = ['alt.atheism',\n",
    " 'comp.graphics',\n",
    " 'comp.os.ms-windows.misc',\n",
    " 'comp.sys.ibm.pc.hardware',\n",
    " 'comp.sys.mac.hardware',\n",
    " 'comp.windows.x',\n",
    " 'misc.forsale',\n",
    " 'rec.autos',\n",
    " 'rec.motorcycles',\n",
    " 'rec.sport.baseball',\n",
    " 'rec.sport.hockey',\n",
    " 'sci.crypt',\n",
    " 'sci.electronics',\n",
    " 'sci.med',\n",
    " 'sci.space',\n",
    " 'soc.religion.christian',\n",
    " 'talk.politics.guns',\n",
    " 'talk.politics.mideast',\n",
    " 'talk.politics.misc',\n",
    " 'talk.religion.misc']\n",
    "\n",
    "cat5 = categories[::4] \n",
    "# every 4th, 5 total\n",
    "cat10 = categories[::2]\n",
    "# every other, 10 total\n",
    "cat15 = categories[5:]\n",
    "# everyone after 5, 15 total\n",
    "\n",
    "cat5"
   ]
  },
  {
   "cell_type": "code",
   "execution_count": 3,
   "id": "cc07cd02",
   "metadata": {},
   "outputs": [],
   "source": [
    "five_train = fetch_20newsgroups(subset='train', categories=cat5, shuffle=True, random_state=42)\n",
    "ten_train = fetch_20newsgroups(subset='train', categories=cat10, shuffle=True, random_state=42)\n",
    "fifteen_train = fetch_20newsgroups(subset='train', categories=cat15, shuffle=True, random_state=42)\n",
    "# reimporting. probably ineficient but saves time having to clean/loop or do python comprehension\n",
    "# which I'm not good at"
   ]
  },
  {
   "cell_type": "code",
   "execution_count": 4,
   "id": "198ee109",
   "metadata": {},
   "outputs": [
    {
     "name": "stdout",
     "output_type": "stream",
     "text": [
      "2793 5627 8491 11314\n"
     ]
    }
   ],
   "source": [
    "print(len(five_train.data), len(ten_train.data), len(fifteen_train.data), len(twenty_train.data))\n",
    "# yup, that worked"
   ]
  },
  {
   "cell_type": "code",
   "execution_count": 5,
   "id": "4c7115f1",
   "metadata": {},
   "outputs": [],
   "source": [
    "from sklearn.naive_bayes import MultinomialNB\n",
    "from sklearn.neighbors import KNeighborsClassifier\n",
    "from sklearn.svm import SVC\n",
    "from sklearn.tree import DecisionTreeClassifier"
   ]
  },
  {
   "cell_type": "code",
   "execution_count": 6,
   "id": "81b57aa7",
   "metadata": {},
   "outputs": [
    {
     "name": "stdout",
     "output_type": "stream",
     "text": [
      "ran\n"
     ]
    }
   ],
   "source": [
    "# now time for tf-idf\n",
    "from sklearn.feature_extraction.text import TfidfTransformer, CountVectorizer\n",
    "from sklearn.pipeline import Pipeline\n",
    "NB_clf = Pipeline([\n",
    "    ('vect', CountVectorizer()),\n",
    "    ('tfidf', TfidfTransformer()),\n",
    "    ('clf', MultinomialNB()),\n",
    "])\n",
    "\n",
    "Tree_clf = Pipeline([\n",
    "    ('vect', CountVectorizer()),\n",
    "    ('tfidf', TfidfTransformer()),\n",
    "    ('clf', DecisionTreeClassifier(criterion=\"entropy\")),\n",
    "])\n",
    "\n",
    "SVC_clf = Pipeline([\n",
    "    ('vect', CountVectorizer()),\n",
    "    ('tfidf', TfidfTransformer()),\n",
    "    ('clf', SVC(C=1, kernel='linear')),\n",
    "])\n",
    "\n",
    "KNN_clf = Pipeline([\n",
    "    ('vect', CountVectorizer()),\n",
    "    ('tfidf', TfidfTransformer()),\n",
    "    ('clf', KNeighborsClassifier(n_neighbors=3)),\n",
    "])\n",
    "\n",
    "print('ran')\n"
   ]
  },
  {
   "cell_type": "code",
   "execution_count": 7,
   "id": "e48c87a0",
   "metadata": {},
   "outputs": [
    {
     "name": "stdout",
     "output_type": "stream",
     "text": [
      "1859 7532\n"
     ]
    }
   ],
   "source": [
    "# import testing sets\n",
    "\n",
    "twenty_test = fetch_20newsgroups(subset='test', shuffle=True, random_state=42)\n",
    "fifteen_test = fetch_20newsgroups(subset='test', categories=cat15, shuffle=True, random_state=42)\n",
    "ten_test = fetch_20newsgroups(subset='test', categories=cat10, shuffle=True, random_state=42)\n",
    "five_test = fetch_20newsgroups(subset='test', categories=cat5, shuffle=True, random_state=42)\n",
    "\n",
    "print(len(five_test.data), len(twenty_test.data))"
   ]
  },
  {
   "cell_type": "code",
   "execution_count": 8,
   "id": "e06d2699",
   "metadata": {},
   "outputs": [
    {
     "name": "stdout",
     "output_type": "stream",
     "text": [
      "done\n"
     ]
    }
   ],
   "source": [
    "# initialize NBs\n",
    "\n",
    "\n",
    "# this doesnt really work because these all reference the same classifier.\n",
    "# instead, they just need to be initialized\n",
    "# we use them later in the next loop\n",
    "NB5 = NB_clf.fit(five_train.data, five_train.target)\n",
    "NB10 = NB_clf.fit(ten_train.data, ten_train.target)\n",
    "NB15 = NB_clf.fit(fifteen_train.data, fifteen_train.target)\n",
    "NB20 = NB_clf.fit(twenty_train.data, twenty_train.target)\n",
    "\n",
    "print('done')"
   ]
  },
  {
   "cell_type": "code",
   "execution_count": 9,
   "id": "0b07f666",
   "metadata": {},
   "outputs": [
    {
     "name": "stdout",
     "output_type": "stream",
     "text": [
      "[0.9333304357510203, 0.8915244280548772, 0.8684918261824941, 0.8218781741893993] [0.9279182356105433, 0.8619861185264281, 0.8261100300725278, 0.7738980350504514] [0.9278379899131345, 0.8616827513193228, 0.8166020487217819, 0.7684457156894653]\n"
     ]
    }
   ],
   "source": [
    "# test NBs\n",
    "from sklearn.metrics import f1_score, recall_score, precision_score\n",
    "\n",
    "NB_prc = []\n",
    "NB_rec = []\n",
    "NB_f1 = []\n",
    "\n",
    "for clf, data, train in zip([NB5, NB10, NB15, NB20], [five_test, ten_test, fifteen_test, twenty_test], [five_train, ten_train, fifteen_train, twenty_train]):\n",
    "#   zip all the training, testing, and clf names together\n",
    "#   redo the classifier for each loop\n",
    "#   add them to their score arrays\n",
    "    \n",
    "    clf = NB_clf.fit(train.data, train.target)\n",
    "    NB_prc.append(precision_score(data.target, clf.predict(data.data), average='weighted'))\n",
    "    NB_rec.append(recall_score(data.target, clf.predict(data.data), average='weighted'))\n",
    "    NB_f1.append(f1_score(data.target, clf.predict(data.data), average='weighted'))\n",
    "\n",
    "\n",
    "\n",
    "print(NB_prc, NB_rec, NB_f1)"
   ]
  },
  {
   "cell_type": "code",
   "execution_count": 10,
   "id": "4cad1f42",
   "metadata": {
    "scrolled": false
   },
   "outputs": [
    {
     "data": {
      "text/html": [
       "<div>\n",
       "<style scoped>\n",
       "    .dataframe tbody tr th:only-of-type {\n",
       "        vertical-align: middle;\n",
       "    }\n",
       "\n",
       "    .dataframe tbody tr th {\n",
       "        vertical-align: top;\n",
       "    }\n",
       "\n",
       "    .dataframe thead th {\n",
       "        text-align: right;\n",
       "    }\n",
       "</style>\n",
       "<table border=\"1\" class=\"dataframe\">\n",
       "  <thead>\n",
       "    <tr style=\"text-align: right;\">\n",
       "      <th></th>\n",
       "      <th>5</th>\n",
       "      <th>10</th>\n",
       "      <th>15</th>\n",
       "      <th>20</th>\n",
       "    </tr>\n",
       "    <tr>\n",
       "      <th>Naive Bayes</th>\n",
       "      <th></th>\n",
       "      <th></th>\n",
       "      <th></th>\n",
       "      <th></th>\n",
       "    </tr>\n",
       "  </thead>\n",
       "  <tbody>\n",
       "    <tr>\n",
       "      <th>Precision</th>\n",
       "      <td>0.933330</td>\n",
       "      <td>0.891524</td>\n",
       "      <td>0.868492</td>\n",
       "      <td>0.821878</td>\n",
       "    </tr>\n",
       "    <tr>\n",
       "      <th>Recall</th>\n",
       "      <td>0.927918</td>\n",
       "      <td>0.861986</td>\n",
       "      <td>0.826110</td>\n",
       "      <td>0.773898</td>\n",
       "    </tr>\n",
       "    <tr>\n",
       "      <th>F1</th>\n",
       "      <td>0.927838</td>\n",
       "      <td>0.861683</td>\n",
       "      <td>0.816602</td>\n",
       "      <td>0.768446</td>\n",
       "    </tr>\n",
       "  </tbody>\n",
       "</table>\n",
       "</div>"
      ],
      "text/plain": [
       "                   5         10        15        20\n",
       "Naive Bayes                                        \n",
       "Precision    0.933330  0.891524  0.868492  0.821878\n",
       "Recall       0.927918  0.861986  0.826110  0.773898\n",
       "F1           0.927838  0.861683  0.816602  0.768446"
      ]
     },
     "execution_count": 10,
     "metadata": {},
     "output_type": "execute_result"
    }
   ],
   "source": [
    "import pandas as pd\n",
    "\n",
    "nb_df = pd.DataFrame(data=[NB_prc, NB_rec, NB_f1], index=['Precision', 'Recall', 'F1'], columns=[5,10,15,20]) \n",
    "nb_df = nb_df.rename_axis(\"Naive Bayes\")\n",
    "\n",
    "nb_df\n"
   ]
  },
  {
   "cell_type": "code",
   "execution_count": 11,
   "id": "ad13b151",
   "metadata": {
    "scrolled": true
   },
   "outputs": [
    {
     "data": {
      "text/html": [
       "<div>\n",
       "<style scoped>\n",
       "    .dataframe tbody tr th:only-of-type {\n",
       "        vertical-align: middle;\n",
       "    }\n",
       "\n",
       "    .dataframe tbody tr th {\n",
       "        vertical-align: top;\n",
       "    }\n",
       "\n",
       "    .dataframe thead th {\n",
       "        text-align: right;\n",
       "    }\n",
       "</style>\n",
       "<table border=\"1\" class=\"dataframe\">\n",
       "  <thead>\n",
       "    <tr style=\"text-align: right;\">\n",
       "      <th></th>\n",
       "      <th>5</th>\n",
       "      <th>10</th>\n",
       "      <th>15</th>\n",
       "      <th>20</th>\n",
       "    </tr>\n",
       "    <tr>\n",
       "      <th>K-Nearest Neighbors</th>\n",
       "      <th></th>\n",
       "      <th></th>\n",
       "      <th></th>\n",
       "      <th></th>\n",
       "    </tr>\n",
       "  </thead>\n",
       "  <tbody>\n",
       "    <tr>\n",
       "      <th>Precision</th>\n",
       "      <td>0.831971</td>\n",
       "      <td>0.755546</td>\n",
       "      <td>0.740087</td>\n",
       "      <td>0.677474</td>\n",
       "    </tr>\n",
       "    <tr>\n",
       "      <th>Recall</th>\n",
       "      <td>0.822485</td>\n",
       "      <td>0.750667</td>\n",
       "      <td>0.737308</td>\n",
       "      <td>0.657860</td>\n",
       "    </tr>\n",
       "    <tr>\n",
       "      <th>F1</th>\n",
       "      <td>0.820486</td>\n",
       "      <td>0.748264</td>\n",
       "      <td>0.734390</td>\n",
       "      <td>0.660516</td>\n",
       "    </tr>\n",
       "  </tbody>\n",
       "</table>\n",
       "</div>"
      ],
      "text/plain": [
       "                           5         10        15        20\n",
       "K-Nearest Neighbors                                        \n",
       "Precision            0.831971  0.755546  0.740087  0.677474\n",
       "Recall               0.822485  0.750667  0.737308  0.657860\n",
       "F1                   0.820486  0.748264  0.734390  0.660516"
      ]
     },
     "execution_count": 11,
     "metadata": {},
     "output_type": "execute_result"
    }
   ],
   "source": [
    "# onto KNN\n",
    "KNN_prc = []\n",
    "KNN_rec = []\n",
    "KNN_f1 = []\n",
    "\n",
    "for data, train in zip([five_test, ten_test, fifteen_test, twenty_test], [five_train, ten_train, fifteen_train, twenty_train]):\n",
    "#   zip all the training, testing, and clf names together\n",
    "#   redo the classifier for each loop\n",
    "#   add them to their score arrays\n",
    "    \n",
    "    clf = KNN_clf.fit(train.data, train.target)\n",
    "    KNN_prc.append(precision_score(data.target, clf.predict(data.data), average='weighted'))\n",
    "    KNN_rec.append(recall_score(data.target, clf.predict(data.data), average='weighted'))\n",
    "    KNN_f1.append(f1_score(data.target, clf.predict(data.data), average='weighted'))\n",
    "\n",
    "    \n",
    "knn_df = pd.DataFrame(data=[KNN_prc, KNN_rec, KNN_f1], index=['Precision', 'Recall', 'F1'], columns=[5,10,15,20]) \n",
    "knn_df = knn_df.rename_axis(\"K-Nearest Neighbors\")\n",
    "\n",
    "knn_df"
   ]
  },
  {
   "cell_type": "code",
   "execution_count": 12,
   "id": "de12fc20",
   "metadata": {},
   "outputs": [
    {
     "name": "stdout",
     "output_type": "stream",
     "text": [
      "done\n"
     ]
    },
    {
     "data": {
      "text/html": [
       "<div>\n",
       "<style scoped>\n",
       "    .dataframe tbody tr th:only-of-type {\n",
       "        vertical-align: middle;\n",
       "    }\n",
       "\n",
       "    .dataframe tbody tr th {\n",
       "        vertical-align: top;\n",
       "    }\n",
       "\n",
       "    .dataframe thead th {\n",
       "        text-align: right;\n",
       "    }\n",
       "</style>\n",
       "<table border=\"1\" class=\"dataframe\">\n",
       "  <thead>\n",
       "    <tr style=\"text-align: right;\">\n",
       "      <th></th>\n",
       "      <th>5</th>\n",
       "      <th>10</th>\n",
       "      <th>15</th>\n",
       "      <th>20</th>\n",
       "    </tr>\n",
       "    <tr>\n",
       "      <th>SVC</th>\n",
       "      <th></th>\n",
       "      <th></th>\n",
       "      <th></th>\n",
       "      <th></th>\n",
       "    </tr>\n",
       "  </thead>\n",
       "  <tbody>\n",
       "    <tr>\n",
       "      <th>Precision</th>\n",
       "      <td>0.948146</td>\n",
       "      <td>0.901849</td>\n",
       "      <td>0.889507</td>\n",
       "      <td>0.839604</td>\n",
       "    </tr>\n",
       "    <tr>\n",
       "      <th>Recall</th>\n",
       "      <td>0.946746</td>\n",
       "      <td>0.898558</td>\n",
       "      <td>0.885371</td>\n",
       "      <td>0.834705</td>\n",
       "    </tr>\n",
       "    <tr>\n",
       "      <th>F1</th>\n",
       "      <td>0.947135</td>\n",
       "      <td>0.897493</td>\n",
       "      <td>0.884588</td>\n",
       "      <td>0.834515</td>\n",
       "    </tr>\n",
       "  </tbody>\n",
       "</table>\n",
       "</div>"
      ],
      "text/plain": [
       "                 5         10        15        20\n",
       "SVC                                              \n",
       "Precision  0.948146  0.901849  0.889507  0.839604\n",
       "Recall     0.946746  0.898558  0.885371  0.834705\n",
       "F1         0.947135  0.897493  0.884588  0.834515"
      ]
     },
     "execution_count": 12,
     "metadata": {},
     "output_type": "execute_result"
    }
   ],
   "source": [
    "SVC_prc = []\n",
    "SVC_rec = []\n",
    "SVC_f1 = []\n",
    "\n",
    "for data, train in zip([five_test, ten_test, fifteen_test, twenty_test], [five_train, ten_train, fifteen_train, twenty_train]):\n",
    "#   zip all the training, testing, and clf names together\n",
    "#   redo the classifier for each loop\n",
    "#   add them to their score arrays\n",
    "    \n",
    "    clf = SVC_clf.fit(train.data, train.target)\n",
    "    SVC_prc.append(precision_score(data.target, clf.predict(data.data), average='weighted'))\n",
    "    SVC_rec.append(recall_score(data.target, clf.predict(data.data), average='weighted'))\n",
    "    SVC_f1.append(f1_score(data.target, clf.predict(data.data), average='weighted'))\n",
    "\n",
    "    \n",
    "svc_df = pd.DataFrame(data=[SVC_prc, SVC_rec, SVC_f1], index=['Precision', 'Recall', 'F1'], columns=[5,10,15,20]) \n",
    "svc_df = svc_df.rename_axis(\"SVC\")\n",
    "print('done')\n",
    "svc_df"
   ]
  },
  {
   "cell_type": "code",
   "execution_count": 15,
   "id": "98cb076d",
   "metadata": {},
   "outputs": [
    {
     "data": {
      "text/html": [
       "<div>\n",
       "<style scoped>\n",
       "    .dataframe tbody tr th:only-of-type {\n",
       "        vertical-align: middle;\n",
       "    }\n",
       "\n",
       "    .dataframe tbody tr th {\n",
       "        vertical-align: top;\n",
       "    }\n",
       "\n",
       "    .dataframe thead th {\n",
       "        text-align: right;\n",
       "    }\n",
       "</style>\n",
       "<table border=\"1\" class=\"dataframe\">\n",
       "  <thead>\n",
       "    <tr style=\"text-align: right;\">\n",
       "      <th></th>\n",
       "      <th>5</th>\n",
       "      <th>10</th>\n",
       "      <th>15</th>\n",
       "      <th>20</th>\n",
       "    </tr>\n",
       "    <tr>\n",
       "      <th>Decision Tree</th>\n",
       "      <th></th>\n",
       "      <th></th>\n",
       "      <th></th>\n",
       "      <th></th>\n",
       "    </tr>\n",
       "  </thead>\n",
       "  <tbody>\n",
       "    <tr>\n",
       "      <th>Precision</th>\n",
       "      <td>0.722225</td>\n",
       "      <td>0.590675</td>\n",
       "      <td>0.500301</td>\n",
       "      <td>0.409969</td>\n",
       "    </tr>\n",
       "    <tr>\n",
       "      <th>Recall</th>\n",
       "      <td>0.719204</td>\n",
       "      <td>0.592098</td>\n",
       "      <td>0.493189</td>\n",
       "      <td>0.410648</td>\n",
       "    </tr>\n",
       "    <tr>\n",
       "      <th>F1</th>\n",
       "      <td>0.720523</td>\n",
       "      <td>0.591003</td>\n",
       "      <td>0.495234</td>\n",
       "      <td>0.409645</td>\n",
       "    </tr>\n",
       "  </tbody>\n",
       "</table>\n",
       "</div>"
      ],
      "text/plain": [
       "                     5         10        15        20\n",
       "Decision Tree                                        \n",
       "Precision      0.722225  0.590675  0.500301  0.409969\n",
       "Recall         0.719204  0.592098  0.493189  0.410648\n",
       "F1             0.720523  0.591003  0.495234  0.409645"
      ]
     },
     "execution_count": 15,
     "metadata": {},
     "output_type": "execute_result"
    }
   ],
   "source": [
    "# Decision tree\n",
    "\n",
    "tree_prc = []\n",
    "tree_rec = []\n",
    "tree_f1 = []\n",
    "\n",
    "for data, train in zip([five_test, ten_test, fifteen_test, twenty_test], [five_train, ten_train, fifteen_train, twenty_train]):\n",
    "#   zip all the training, testing, and clf names together\n",
    "#   redo the classifier for each loop\n",
    "#   add them to their score arrays\n",
    "    \n",
    "    clf = Tree_clf.fit(train.data, train.target)\n",
    "    tree_prc.append(precision_score(data.target, clf.predict(data.data), average='weighted'))\n",
    "    tree_rec.append(recall_score(data.target, clf.predict(data.data), average='weighted'))\n",
    "    tree_f1.append(f1_score(data.target, clf.predict(data.data), average='weighted'))\n",
    "\n",
    "    \n",
    "tree_df = pd.DataFrame(data=[tree_prc, tree_rec, tree_f1], index=['Precision', 'Recall', 'F1'], columns=[5,10,15,20]) \n",
    "tree_df = tree_df.rename_axis(\"Decision Tree\")\n",
    "\n",
    "tree_df"
   ]
  },
  {
   "cell_type": "code",
   "execution_count": 17,
   "id": "30220879",
   "metadata": {},
   "outputs": [
    {
     "name": "stderr",
     "output_type": "stream",
     "text": [
      "Neither PyTorch nor TensorFlow >= 2.0 have been found.Models won't be available and only tokenizers, configurationand file/data utilities can be used.\n"
     ]
    }
   ],
   "source": [
    "# Now Word2Vec and BERT\n",
    "\n",
    "import transformers\n",
    "import tensorflow\n",
    "tokenizer = transformers.BertTokenizer.from_pretrained('bert-base-uncased', do_lower_case=True)\n",
    "nlp = transformers.TFBertModel.from_pretrained('bert-base-uncased')"
   ]
  }
 ],
 "metadata": {
  "kernelspec": {
   "display_name": "Python 3 (ipykernel)",
   "language": "python",
   "name": "python3"
  },
  "language_info": {
   "codemirror_mode": {
    "name": "ipython",
    "version": 3
   },
   "file_extension": ".py",
   "mimetype": "text/x-python",
   "name": "python",
   "nbconvert_exporter": "python",
   "pygments_lexer": "ipython3",
   "version": "3.8.2"
  }
 },
 "nbformat": 4,
 "nbformat_minor": 5
}
