{
 "cells": [
  {
   "cell_type": "code",
   "execution_count": 2,
   "metadata": {},
   "outputs": [
    {
     "name": "stdout",
     "output_type": "stream",
     "text": [
      "[[5.1 3.5 1.4 0.2]\n",
      " [4.9 3.  1.4 0.2]\n",
      " [4.7 3.2 1.3 0.2]\n",
      " [4.6 3.1 1.5 0.2]\n",
      " [5.  3.6 1.4 0.2]\n",
      " [5.4 3.9 1.7 0.4]\n",
      " [4.6 3.4 1.4 0.3]\n",
      " [5.  3.4 1.5 0.2]\n",
      " [4.4 2.9 1.4 0.2]\n",
      " [4.9 3.1 1.5 0.1]\n",
      " [5.4 3.7 1.5 0.2]\n",
      " [4.8 3.4 1.6 0.2]\n",
      " [4.8 3.  1.4 0.1]\n",
      " [4.3 3.  1.1 0.1]\n",
      " [5.8 4.  1.2 0.2]\n",
      " [5.7 4.4 1.5 0.4]\n",
      " [5.4 3.9 1.3 0.4]\n",
      " [5.1 3.5 1.4 0.3]\n",
      " [5.7 3.8 1.7 0.3]\n",
      " [5.1 3.8 1.5 0.3]\n",
      " [5.4 3.4 1.7 0.2]\n",
      " [5.1 3.7 1.5 0.4]\n",
      " [4.6 3.6 1.  0.2]\n",
      " [5.1 3.3 1.7 0.5]\n",
      " [4.8 3.4 1.9 0.2]\n",
      " [5.  3.  1.6 0.2]\n",
      " [5.  3.4 1.6 0.4]\n",
      " [5.2 3.5 1.5 0.2]\n",
      " [5.2 3.4 1.4 0.2]\n",
      " [4.7 3.2 1.6 0.2]\n",
      " [4.8 3.1 1.6 0.2]\n",
      " [5.4 3.4 1.5 0.4]\n",
      " [5.2 4.1 1.5 0.1]\n",
      " [5.5 4.2 1.4 0.2]\n",
      " [4.9 3.1 1.5 0.2]\n",
      " [5.  3.2 1.2 0.2]\n",
      " [5.5 3.5 1.3 0.2]\n",
      " [4.9 3.6 1.4 0.1]\n",
      " [4.4 3.  1.3 0.2]\n",
      " [5.1 3.4 1.5 0.2]\n",
      " [5.  3.5 1.3 0.3]\n",
      " [4.5 2.3 1.3 0.3]\n",
      " [4.4 3.2 1.3 0.2]\n",
      " [5.  3.5 1.6 0.6]\n",
      " [5.1 3.8 1.9 0.4]\n",
      " [4.8 3.  1.4 0.3]\n",
      " [5.1 3.8 1.6 0.2]\n",
      " [4.6 3.2 1.4 0.2]\n",
      " [5.3 3.7 1.5 0.2]\n",
      " [5.  3.3 1.4 0.2]\n",
      " [7.  3.2 4.7 1.4]\n",
      " [6.4 3.2 4.5 1.5]\n",
      " [6.9 3.1 4.9 1.5]\n",
      " [5.5 2.3 4.  1.3]\n",
      " [6.5 2.8 4.6 1.5]\n",
      " [5.7 2.8 4.5 1.3]\n",
      " [6.3 3.3 4.7 1.6]\n",
      " [4.9 2.4 3.3 1. ]\n",
      " [6.6 2.9 4.6 1.3]\n",
      " [5.2 2.7 3.9 1.4]\n",
      " [5.  2.  3.5 1. ]\n",
      " [5.9 3.  4.2 1.5]\n",
      " [6.  2.2 4.  1. ]\n",
      " [6.1 2.9 4.7 1.4]\n",
      " [5.6 2.9 3.6 1.3]\n",
      " [6.7 3.1 4.4 1.4]\n",
      " [5.6 3.  4.5 1.5]\n",
      " [5.8 2.7 4.1 1. ]\n",
      " [6.2 2.2 4.5 1.5]\n",
      " [5.6 2.5 3.9 1.1]\n",
      " [5.9 3.2 4.8 1.8]\n",
      " [6.1 2.8 4.  1.3]\n",
      " [6.3 2.5 4.9 1.5]\n",
      " [6.1 2.8 4.7 1.2]\n",
      " [6.4 2.9 4.3 1.3]\n",
      " [6.6 3.  4.4 1.4]\n",
      " [6.8 2.8 4.8 1.4]\n",
      " [6.7 3.  5.  1.7]\n",
      " [6.  2.9 4.5 1.5]\n",
      " [5.7 2.6 3.5 1. ]\n",
      " [5.5 2.4 3.8 1.1]\n",
      " [5.5 2.4 3.7 1. ]\n",
      " [5.8 2.7 3.9 1.2]\n",
      " [6.  2.7 5.1 1.6]\n",
      " [5.4 3.  4.5 1.5]\n",
      " [6.  3.4 4.5 1.6]\n",
      " [6.7 3.1 4.7 1.5]\n",
      " [6.3 2.3 4.4 1.3]\n",
      " [5.6 3.  4.1 1.3]\n",
      " [5.5 2.5 4.  1.3]\n",
      " [5.5 2.6 4.4 1.2]\n",
      " [6.1 3.  4.6 1.4]\n",
      " [5.8 2.6 4.  1.2]\n",
      " [5.  2.3 3.3 1. ]\n",
      " [5.6 2.7 4.2 1.3]\n",
      " [5.7 3.  4.2 1.2]\n",
      " [5.7 2.9 4.2 1.3]\n",
      " [6.2 2.9 4.3 1.3]\n",
      " [5.1 2.5 3.  1.1]\n",
      " [5.7 2.8 4.1 1.3]\n",
      " [6.3 3.3 6.  2.5]\n",
      " [5.8 2.7 5.1 1.9]\n",
      " [7.1 3.  5.9 2.1]\n",
      " [6.3 2.9 5.6 1.8]\n",
      " [6.5 3.  5.8 2.2]\n",
      " [7.6 3.  6.6 2.1]\n",
      " [4.9 2.5 4.5 1.7]\n",
      " [7.3 2.9 6.3 1.8]\n",
      " [6.7 2.5 5.8 1.8]\n",
      " [7.2 3.6 6.1 2.5]\n",
      " [6.5 3.2 5.1 2. ]\n",
      " [6.4 2.7 5.3 1.9]\n",
      " [6.8 3.  5.5 2.1]\n",
      " [5.7 2.5 5.  2. ]\n",
      " [5.8 2.8 5.1 2.4]\n",
      " [6.4 3.2 5.3 2.3]\n",
      " [6.5 3.  5.5 1.8]\n",
      " [7.7 3.8 6.7 2.2]\n",
      " [7.7 2.6 6.9 2.3]\n",
      " [6.  2.2 5.  1.5]\n",
      " [6.9 3.2 5.7 2.3]\n",
      " [5.6 2.8 4.9 2. ]\n",
      " [7.7 2.8 6.7 2. ]\n",
      " [6.3 2.7 4.9 1.8]\n",
      " [6.7 3.3 5.7 2.1]\n",
      " [7.2 3.2 6.  1.8]\n",
      " [6.2 2.8 4.8 1.8]\n",
      " [6.1 3.  4.9 1.8]\n",
      " [6.4 2.8 5.6 2.1]\n",
      " [7.2 3.  5.8 1.6]\n",
      " [7.4 2.8 6.1 1.9]\n",
      " [7.9 3.8 6.4 2. ]\n",
      " [6.4 2.8 5.6 2.2]\n",
      " [6.3 2.8 5.1 1.5]\n",
      " [6.1 2.6 5.6 1.4]\n",
      " [7.7 3.  6.1 2.3]\n",
      " [6.3 3.4 5.6 2.4]\n",
      " [6.4 3.1 5.5 1.8]\n",
      " [6.  3.  4.8 1.8]\n",
      " [6.9 3.1 5.4 2.1]\n",
      " [6.7 3.1 5.6 2.4]\n",
      " [6.9 3.1 5.1 2.3]\n",
      " [5.8 2.7 5.1 1.9]\n",
      " [6.8 3.2 5.9 2.3]\n",
      " [6.7 3.3 5.7 2.5]\n",
      " [6.7 3.  5.2 2.3]\n",
      " [6.3 2.5 5.  1.9]\n",
      " [6.5 3.  5.2 2. ]\n",
      " [6.2 3.4 5.4 2.3]\n",
      " [5.9 3.  5.1 1.8]]\n",
      "[0 0 0 0 0 0 0 0 0 0 0 0 0 0 0 0 0 0 0 0 0 0 0 0 0 0 0 0 0 0 0 0 0 0 0 0 0\n",
      " 0 0 0 0 0 0 0 0 0 0 0 0 0 1 1 1 1 1 1 1 1 1 1 1 1 1 1 1 1 1 1 1 1 1 1 1 1\n",
      " 1 1 1 1 1 1 1 1 1 1 1 1 1 1 1 1 1 1 1 1 1 1 1 1 1 1 2 2 2 2 2 2 2 2 2 2 2\n",
      " 2 2 2 2 2 2 2 2 2 2 2 2 2 2 2 2 2 2 2 2 2 2 2 2 2 2 2 2 2 2 2 2 2 2 2 2 2\n",
      " 2 2]\n"
     ]
    },
    {
     "data": {
      "text/plain": [
       "[Text(167.4, 199.32, 'X[2] <= 2.45\\ngini = 0.667\\nsamples = 150\\nvalue = [50, 50, 50]'),\n",
       " Text(141.64615384615385, 163.07999999999998, 'gini = 0.0\\nsamples = 50\\nvalue = [50, 0, 0]'),\n",
       " Text(193.15384615384616, 163.07999999999998, 'X[3] <= 1.75\\ngini = 0.5\\nsamples = 100\\nvalue = [0, 50, 50]'),\n",
       " Text(103.01538461538462, 126.83999999999999, 'X[2] <= 4.95\\ngini = 0.168\\nsamples = 54\\nvalue = [0, 49, 5]'),\n",
       " Text(51.50769230769231, 90.6, 'X[3] <= 1.65\\ngini = 0.041\\nsamples = 48\\nvalue = [0, 47, 1]'),\n",
       " Text(25.753846153846155, 54.359999999999985, 'gini = 0.0\\nsamples = 47\\nvalue = [0, 47, 0]'),\n",
       " Text(77.26153846153846, 54.359999999999985, 'gini = 0.0\\nsamples = 1\\nvalue = [0, 0, 1]'),\n",
       " Text(154.52307692307693, 90.6, 'X[3] <= 1.55\\ngini = 0.444\\nsamples = 6\\nvalue = [0, 2, 4]'),\n",
       " Text(128.76923076923077, 54.359999999999985, 'gini = 0.0\\nsamples = 3\\nvalue = [0, 0, 3]'),\n",
       " Text(180.27692307692308, 54.359999999999985, 'X[2] <= 5.45\\ngini = 0.444\\nsamples = 3\\nvalue = [0, 2, 1]'),\n",
       " Text(154.52307692307693, 18.119999999999976, 'gini = 0.0\\nsamples = 2\\nvalue = [0, 2, 0]'),\n",
       " Text(206.03076923076924, 18.119999999999976, 'gini = 0.0\\nsamples = 1\\nvalue = [0, 0, 1]'),\n",
       " Text(283.2923076923077, 126.83999999999999, 'X[2] <= 4.85\\ngini = 0.043\\nsamples = 46\\nvalue = [0, 1, 45]'),\n",
       " Text(257.53846153846155, 90.6, 'X[0] <= 5.95\\ngini = 0.444\\nsamples = 3\\nvalue = [0, 1, 2]'),\n",
       " Text(231.7846153846154, 54.359999999999985, 'gini = 0.0\\nsamples = 1\\nvalue = [0, 1, 0]'),\n",
       " Text(283.2923076923077, 54.359999999999985, 'gini = 0.0\\nsamples = 2\\nvalue = [0, 0, 2]'),\n",
       " Text(309.04615384615386, 90.6, 'gini = 0.0\\nsamples = 43\\nvalue = [0, 0, 43]')]"
      ]
     },
     "execution_count": 2,
     "metadata": {},
     "output_type": "execute_result"
    },
    {
     "data": {
      "image/png": "[encoded data removed]",
      "text/plain": [
       "<Figure size 432x288 with 1 Axes>"
      ]
     },
     "metadata": {
      "needs_background": "light"
     },
     "output_type": "display_data"
    }
   ],
   "source": [
    "from sklearn.datasets import load_iris\n",
    "from sklearn import tree\n",
    "X, y = load_iris(return_X_y=True)\n",
    "print (X), print(y)\n",
    "clf = tree.DecisionTreeClassifier()\n",
    "clf = clf.fit(X, y)\n",
    "\n",
    "tree.plot_tree(clf) "
   ]
  },
  {
   "cell_type": "code",
   "execution_count": 3,
   "metadata": {},
   "outputs": [
    {
     "data": {
      "text/plain": [
       "'iris1.pdf'"
      ]
     },
     "execution_count": 3,
     "metadata": {},
     "output_type": "execute_result"
    }
   ],
   "source": [
    "from sklearn.tree import DecisionTreeClassifier, export_graphviz\n",
    "import graphviz as g\n",
    "dot_data = tree.export_graphviz(clf, out_file=None) \n",
    "graph = g.Source(dot_data) \n",
    "graph.render(\"iris1\")  \n",
    "\n"
   ]
  },
  {
   "cell_type": "code",
   "execution_count": 34,
   "metadata": {},
   "outputs": [
    {
     "data": {
      "text/html": [
       "<div>\n",
       "<style scoped>\n",
       "    .dataframe tbody tr th:only-of-type {\n",
       "        vertical-align: middle;\n",
       "    }\n",
       "\n",
       "    .dataframe tbody tr th {\n",
       "        vertical-align: top;\n",
       "    }\n",
       "\n",
       "    .dataframe thead th {\n",
       "        text-align: right;\n",
       "    }\n",
       "</style>\n",
       "<table border=\"1\" class=\"dataframe\">\n",
       "  <thead>\n",
       "    <tr style=\"text-align: right;\">\n",
       "      <th></th>\n",
       "      <th>symboling</th>\n",
       "      <th>normalized_losses</th>\n",
       "      <th>make</th>\n",
       "      <th>fuel_type</th>\n",
       "      <th>aspiration</th>\n",
       "      <th>num_doors</th>\n",
       "      <th>body_style</th>\n",
       "      <th>drive_wheels</th>\n",
       "      <th>engine_location</th>\n",
       "      <th>wheel_base</th>\n",
       "      <th>...</th>\n",
       "      <th>engine_size</th>\n",
       "      <th>fuel_system</th>\n",
       "      <th>bore</th>\n",
       "      <th>stroke</th>\n",
       "      <th>compression_ratio</th>\n",
       "      <th>horsepower</th>\n",
       "      <th>peak_rpm</th>\n",
       "      <th>city_mpg</th>\n",
       "      <th>highway_mpg</th>\n",
       "      <th>price</th>\n",
       "    </tr>\n",
       "  </thead>\n",
       "  <tbody>\n",
       "    <tr>\n",
       "      <th>0</th>\n",
       "      <td>3</td>\n",
       "      <td>NaN</td>\n",
       "      <td>alfa-romero</td>\n",
       "      <td>gas</td>\n",
       "      <td>std</td>\n",
       "      <td>two</td>\n",
       "      <td>convertible</td>\n",
       "      <td>rwd</td>\n",
       "      <td>front</td>\n",
       "      <td>88.6</td>\n",
       "      <td>...</td>\n",
       "      <td>130</td>\n",
       "      <td>mpfi</td>\n",
       "      <td>3.47</td>\n",
       "      <td>2.68</td>\n",
       "      <td>9.0</td>\n",
       "      <td>111.0</td>\n",
       "      <td>5000.0</td>\n",
       "      <td>21</td>\n",
       "      <td>27</td>\n",
       "      <td>13495.0</td>\n",
       "    </tr>\n",
       "    <tr>\n",
       "      <th>1</th>\n",
       "      <td>3</td>\n",
       "      <td>NaN</td>\n",
       "      <td>alfa-romero</td>\n",
       "      <td>gas</td>\n",
       "      <td>std</td>\n",
       "      <td>two</td>\n",
       "      <td>convertible</td>\n",
       "      <td>rwd</td>\n",
       "      <td>front</td>\n",
       "      <td>88.6</td>\n",
       "      <td>...</td>\n",
       "      <td>130</td>\n",
       "      <td>mpfi</td>\n",
       "      <td>3.47</td>\n",
       "      <td>2.68</td>\n",
       "      <td>9.0</td>\n",
       "      <td>111.0</td>\n",
       "      <td>5000.0</td>\n",
       "      <td>21</td>\n",
       "      <td>27</td>\n",
       "      <td>16500.0</td>\n",
       "    </tr>\n",
       "    <tr>\n",
       "      <th>2</th>\n",
       "      <td>1</td>\n",
       "      <td>NaN</td>\n",
       "      <td>alfa-romero</td>\n",
       "      <td>gas</td>\n",
       "      <td>std</td>\n",
       "      <td>two</td>\n",
       "      <td>hatchback</td>\n",
       "      <td>rwd</td>\n",
       "      <td>front</td>\n",
       "      <td>94.5</td>\n",
       "      <td>...</td>\n",
       "      <td>152</td>\n",
       "      <td>mpfi</td>\n",
       "      <td>2.68</td>\n",
       "      <td>3.47</td>\n",
       "      <td>9.0</td>\n",
       "      <td>154.0</td>\n",
       "      <td>5000.0</td>\n",
       "      <td>19</td>\n",
       "      <td>26</td>\n",
       "      <td>16500.0</td>\n",
       "    </tr>\n",
       "    <tr>\n",
       "      <th>3</th>\n",
       "      <td>2</td>\n",
       "      <td>164.0</td>\n",
       "      <td>audi</td>\n",
       "      <td>gas</td>\n",
       "      <td>std</td>\n",
       "      <td>four</td>\n",
       "      <td>sedan</td>\n",
       "      <td>fwd</td>\n",
       "      <td>front</td>\n",
       "      <td>99.8</td>\n",
       "      <td>...</td>\n",
       "      <td>109</td>\n",
       "      <td>mpfi</td>\n",
       "      <td>3.19</td>\n",
       "      <td>3.40</td>\n",
       "      <td>10.0</td>\n",
       "      <td>102.0</td>\n",
       "      <td>5500.0</td>\n",
       "      <td>24</td>\n",
       "      <td>30</td>\n",
       "      <td>13950.0</td>\n",
       "    </tr>\n",
       "    <tr>\n",
       "      <th>4</th>\n",
       "      <td>2</td>\n",
       "      <td>164.0</td>\n",
       "      <td>audi</td>\n",
       "      <td>gas</td>\n",
       "      <td>std</td>\n",
       "      <td>four</td>\n",
       "      <td>sedan</td>\n",
       "      <td>4wd</td>\n",
       "      <td>front</td>\n",
       "      <td>99.4</td>\n",
       "      <td>...</td>\n",
       "      <td>136</td>\n",
       "      <td>mpfi</td>\n",
       "      <td>3.19</td>\n",
       "      <td>3.40</td>\n",
       "      <td>8.0</td>\n",
       "      <td>115.0</td>\n",
       "      <td>5500.0</td>\n",
       "      <td>18</td>\n",
       "      <td>22</td>\n",
       "      <td>17450.0</td>\n",
       "    </tr>\n",
       "  </tbody>\n",
       "</table>\n",
       "<p>5 rows × 26 columns</p>\n",
       "</div>"
      ],
      "text/plain": [
       "   symboling  normalized_losses         make fuel_type aspiration num_doors  \\\n",
       "0          3                NaN  alfa-romero       gas        std       two   \n",
       "1          3                NaN  alfa-romero       gas        std       two   \n",
       "2          1                NaN  alfa-romero       gas        std       two   \n",
       "3          2              164.0         audi       gas        std      four   \n",
       "4          2              164.0         audi       gas        std      four   \n",
       "\n",
       "    body_style drive_wheels engine_location  wheel_base  ...  engine_size  \\\n",
       "0  convertible          rwd           front        88.6  ...          130   \n",
       "1  convertible          rwd           front        88.6  ...          130   \n",
       "2    hatchback          rwd           front        94.5  ...          152   \n",
       "3        sedan          fwd           front        99.8  ...          109   \n",
       "4        sedan          4wd           front        99.4  ...          136   \n",
       "\n",
       "   fuel_system  bore  stroke compression_ratio horsepower  peak_rpm city_mpg  \\\n",
       "0         mpfi  3.47    2.68               9.0      111.0    5000.0       21   \n",
       "1         mpfi  3.47    2.68               9.0      111.0    5000.0       21   \n",
       "2         mpfi  2.68    3.47               9.0      154.0    5000.0       19   \n",
       "3         mpfi  3.19    3.40              10.0      102.0    5500.0       24   \n",
       "4         mpfi  3.19    3.40               8.0      115.0    5500.0       18   \n",
       "\n",
       "   highway_mpg    price  \n",
       "0           27  13495.0  \n",
       "1           27  16500.0  \n",
       "2           26  16500.0  \n",
       "3           30  13950.0  \n",
       "4           22  17450.0  \n",
       "\n",
       "[5 rows x 26 columns]"
      ]
     },
     "execution_count": 34,
     "metadata": {},
     "output_type": "execute_result"
    }
   ],
   "source": [
    "from sklearn import tree\n",
    "import pandas as pd\n",
    "import numpy as np\n",
    "\n",
    "# Define the headers since the data does not have any\n",
    "headers = [\"symboling\", \"normalized_losses\", \"make\", \"fuel_type\", \"aspiration\",\n",
    "           \"num_doors\", \"body_style\", \"drive_wheels\", \"engine_location\",\n",
    "           \"wheel_base\", \"length\", \"width\", \"height\", \"curb_weight\",\n",
    "           \"engine_type\", \"num_cylinders\", \"engine_size\", \"fuel_system\",\n",
    "           \"bore\", \"stroke\", \"compression_ratio\", \"horsepower\", \"peak_rpm\",\n",
    "           \"city_mpg\", \"highway_mpg\", \"price\"]\n",
    "\n",
    "# Read in the CSV file and convert \"?\" to NaN\n",
    "df = pd.read_csv(\"http://mlr.cs.umass.edu/ml/machine-learning-databases/autos/imports-85.data\",\n",
    "                  header=None, names=headers, na_values=\"?\" )\n",
    "df.head()"
   ]
  },
  {
   "cell_type": "code",
   "execution_count": 35,
   "metadata": {},
   "outputs": [
    {
     "data": {
      "text/plain": [
       "symboling              int64\n",
       "normalized_losses    float64\n",
       "make                  object\n",
       "fuel_type             object\n",
       "aspiration            object\n",
       "num_doors             object\n",
       "body_style            object\n",
       "drive_wheels          object\n",
       "engine_location       object\n",
       "wheel_base           float64\n",
       "length               float64\n",
       "width                float64\n",
       "height               float64\n",
       "curb_weight            int64\n",
       "engine_type           object\n",
       "num_cylinders         object\n",
       "engine_size            int64\n",
       "fuel_system           object\n",
       "bore                 float64\n",
       "stroke               float64\n",
       "compression_ratio    float64\n",
       "horsepower           float64\n",
       "peak_rpm             float64\n",
       "city_mpg               int64\n",
       "highway_mpg            int64\n",
       "price                float64\n",
       "dtype: object"
      ]
     },
     "execution_count": 35,
     "metadata": {},
     "output_type": "execute_result"
    }
   ],
   "source": [
    "df.dtypes"
   ]
  },
  {
   "cell_type": "code",
   "execution_count": 36,
   "metadata": {},
   "outputs": [],
   "source": [
    "#Importing required libraries\n",
    "import pandas as pd\n",
    "import numpy as np\n",
    "from sklearn.datasets import load_iris\n",
    "from sklearn.tree import DecisionTreeClassifier\n",
    "from sklearn.model_selection import train_test_split"
   ]
  },
  {
   "cell_type": "code",
   "execution_count": 37,
   "metadata": {},
   "outputs": [
    {
     "name": "stdout",
     "output_type": "stream",
     "text": [
      "Classes to predict:  ['setosa' 'versicolor' 'virginica']\n"
     ]
    }
   ],
   "source": [
    "#Loading the iris data\n",
    "data = load_iris()\n",
    "print('Classes to predict: ', data.target_names)"
   ]
  },
  {
   "cell_type": "code",
   "execution_count": 38,
   "metadata": {},
   "outputs": [
    {
     "name": "stdout",
     "output_type": "stream",
     "text": [
      "(150, 4)\n",
      "Number of examples in the data: 150\n"
     ]
    }
   ],
   "source": [
    "#Extracting data attributes\n",
    "X = data.data\n",
    "### Extracting target/ class labels\n",
    "y = data.target\n",
    "\n",
    "print(X.shape)\n",
    "\n",
    "print('Number of examples in the data:', X.shape[0])"
   ]
  },
  {
   "cell_type": "code",
   "execution_count": 39,
   "metadata": {},
   "outputs": [
    {
     "name": "stdout",
     "output_type": "stream",
     "text": [
      "[[5.1 3.5 1.4 0.2]\n",
      " [4.9 3.  1.4 0.2]\n",
      " [4.7 3.2 1.3 0.2]\n",
      " [4.6 3.1 1.5 0.2]\n",
      " [5.  3.6 1.4 0.2]\n",
      " [5.4 3.9 1.7 0.4]\n",
      " [4.6 3.4 1.4 0.3]\n",
      " [5.  3.4 1.5 0.2]\n",
      " [4.4 2.9 1.4 0.2]\n",
      " [4.9 3.1 1.5 0.1]\n",
      " [5.4 3.7 1.5 0.2]\n",
      " [4.8 3.4 1.6 0.2]\n",
      " [4.8 3.  1.4 0.1]\n",
      " [4.3 3.  1.1 0.1]\n",
      " [5.8 4.  1.2 0.2]\n",
      " [5.7 4.4 1.5 0.4]\n",
      " [5.4 3.9 1.3 0.4]\n",
      " [5.1 3.5 1.4 0.3]\n",
      " [5.7 3.8 1.7 0.3]\n",
      " [5.1 3.8 1.5 0.3]\n",
      " [5.4 3.4 1.7 0.2]\n",
      " [5.1 3.7 1.5 0.4]\n",
      " [4.6 3.6 1.  0.2]\n",
      " [5.1 3.3 1.7 0.5]\n",
      " [4.8 3.4 1.9 0.2]\n",
      " [5.  3.  1.6 0.2]\n",
      " [5.  3.4 1.6 0.4]\n",
      " [5.2 3.5 1.5 0.2]\n",
      " [5.2 3.4 1.4 0.2]\n",
      " [4.7 3.2 1.6 0.2]\n",
      " [4.8 3.1 1.6 0.2]\n",
      " [5.4 3.4 1.5 0.4]\n",
      " [5.2 4.1 1.5 0.1]\n",
      " [5.5 4.2 1.4 0.2]\n",
      " [4.9 3.1 1.5 0.2]\n",
      " [5.  3.2 1.2 0.2]\n",
      " [5.5 3.5 1.3 0.2]\n",
      " [4.9 3.6 1.4 0.1]\n",
      " [4.4 3.  1.3 0.2]\n",
      " [5.1 3.4 1.5 0.2]\n",
      " [5.  3.5 1.3 0.3]\n",
      " [4.5 2.3 1.3 0.3]\n",
      " [4.4 3.2 1.3 0.2]\n",
      " [5.  3.5 1.6 0.6]\n",
      " [5.1 3.8 1.9 0.4]\n",
      " [4.8 3.  1.4 0.3]\n",
      " [5.1 3.8 1.6 0.2]\n",
      " [4.6 3.2 1.4 0.2]\n",
      " [5.3 3.7 1.5 0.2]\n",
      " [5.  3.3 1.4 0.2]\n",
      " [7.  3.2 4.7 1.4]\n",
      " [6.4 3.2 4.5 1.5]\n",
      " [6.9 3.1 4.9 1.5]\n",
      " [5.5 2.3 4.  1.3]\n",
      " [6.5 2.8 4.6 1.5]\n",
      " [5.7 2.8 4.5 1.3]\n",
      " [6.3 3.3 4.7 1.6]\n",
      " [4.9 2.4 3.3 1. ]\n",
      " [6.6 2.9 4.6 1.3]\n",
      " [5.2 2.7 3.9 1.4]\n",
      " [5.  2.  3.5 1. ]\n",
      " [5.9 3.  4.2 1.5]\n",
      " [6.  2.2 4.  1. ]\n",
      " [6.1 2.9 4.7 1.4]\n",
      " [5.6 2.9 3.6 1.3]\n",
      " [6.7 3.1 4.4 1.4]\n",
      " [5.6 3.  4.5 1.5]\n",
      " [5.8 2.7 4.1 1. ]\n",
      " [6.2 2.2 4.5 1.5]\n",
      " [5.6 2.5 3.9 1.1]\n",
      " [5.9 3.2 4.8 1.8]\n",
      " [6.1 2.8 4.  1.3]\n",
      " [6.3 2.5 4.9 1.5]\n",
      " [6.1 2.8 4.7 1.2]\n",
      " [6.4 2.9 4.3 1.3]\n",
      " [6.6 3.  4.4 1.4]\n",
      " [6.8 2.8 4.8 1.4]\n",
      " [6.7 3.  5.  1.7]\n",
      " [6.  2.9 4.5 1.5]\n",
      " [5.7 2.6 3.5 1. ]\n",
      " [5.5 2.4 3.8 1.1]\n",
      " [5.5 2.4 3.7 1. ]\n",
      " [5.8 2.7 3.9 1.2]\n",
      " [6.  2.7 5.1 1.6]\n",
      " [5.4 3.  4.5 1.5]\n",
      " [6.  3.4 4.5 1.6]\n",
      " [6.7 3.1 4.7 1.5]\n",
      " [6.3 2.3 4.4 1.3]\n",
      " [5.6 3.  4.1 1.3]\n",
      " [5.5 2.5 4.  1.3]\n",
      " [5.5 2.6 4.4 1.2]\n",
      " [6.1 3.  4.6 1.4]\n",
      " [5.8 2.6 4.  1.2]\n",
      " [5.  2.3 3.3 1. ]\n",
      " [5.6 2.7 4.2 1.3]\n",
      " [5.7 3.  4.2 1.2]\n",
      " [5.7 2.9 4.2 1.3]\n",
      " [6.2 2.9 4.3 1.3]\n",
      " [5.1 2.5 3.  1.1]\n",
      " [5.7 2.8 4.1 1.3]\n",
      " [6.3 3.3 6.  2.5]\n",
      " [5.8 2.7 5.1 1.9]\n",
      " [7.1 3.  5.9 2.1]\n",
      " [6.3 2.9 5.6 1.8]\n",
      " [6.5 3.  5.8 2.2]\n",
      " [7.6 3.  6.6 2.1]\n",
      " [4.9 2.5 4.5 1.7]\n",
      " [7.3 2.9 6.3 1.8]\n",
      " [6.7 2.5 5.8 1.8]\n",
      " [7.2 3.6 6.1 2.5]\n",
      " [6.5 3.2 5.1 2. ]\n",
      " [6.4 2.7 5.3 1.9]\n",
      " [6.8 3.  5.5 2.1]\n",
      " [5.7 2.5 5.  2. ]\n",
      " [5.8 2.8 5.1 2.4]\n",
      " [6.4 3.2 5.3 2.3]\n",
      " [6.5 3.  5.5 1.8]\n",
      " [7.7 3.8 6.7 2.2]\n",
      " [7.7 2.6 6.9 2.3]\n",
      " [6.  2.2 5.  1.5]\n",
      " [6.9 3.2 5.7 2.3]\n",
      " [5.6 2.8 4.9 2. ]\n",
      " [7.7 2.8 6.7 2. ]\n",
      " [6.3 2.7 4.9 1.8]\n",
      " [6.7 3.3 5.7 2.1]\n",
      " [7.2 3.2 6.  1.8]\n",
      " [6.2 2.8 4.8 1.8]\n",
      " [6.1 3.  4.9 1.8]\n",
      " [6.4 2.8 5.6 2.1]\n",
      " [7.2 3.  5.8 1.6]\n",
      " [7.4 2.8 6.1 1.9]\n",
      " [7.9 3.8 6.4 2. ]\n",
      " [6.4 2.8 5.6 2.2]\n",
      " [6.3 2.8 5.1 1.5]\n",
      " [6.1 2.6 5.6 1.4]\n",
      " [7.7 3.  6.1 2.3]\n",
      " [6.3 3.4 5.6 2.4]\n",
      " [6.4 3.1 5.5 1.8]\n",
      " [6.  3.  4.8 1.8]\n",
      " [6.9 3.1 5.4 2.1]\n",
      " [6.7 3.1 5.6 2.4]\n",
      " [6.9 3.1 5.1 2.3]\n",
      " [5.8 2.7 5.1 1.9]\n",
      " [6.8 3.2 5.9 2.3]\n",
      " [6.7 3.3 5.7 2.5]\n",
      " [6.7 3.  5.2 2.3]\n",
      " [6.3 2.5 5.  1.9]\n",
      " [6.5 3.  5.2 2. ]\n",
      " [6.2 3.4 5.4 2.3]\n",
      " [5.9 3.  5.1 1.8]]\n",
      "[0 0 0 0 0 0 0 0 0 0 0 0 0 0 0 0 0 0 0 0 0 0 0 0 0 0 0 0 0 0 0 0 0 0 0 0 0\n",
      " 0 0 0 0 0 0 0 0 0 0 0 0 0 1 1 1 1 1 1 1 1 1 1 1 1 1 1 1 1 1 1 1 1 1 1 1 1\n",
      " 1 1 1 1 1 1 1 1 1 1 1 1 1 1 1 1 1 1 1 1 1 1 1 1 1 1 2 2 2 2 2 2 2 2 2 2 2\n",
      " 2 2 2 2 2 2 2 2 2 2 2 2 2 2 2 2 2 2 2 2 2 2 2 2 2 2 2 2 2 2 2 2 2 2 2 2 2\n",
      " 2 2]\n"
     ]
    }
   ],
   "source": [
    "print(X)\n",
    "print(y)"
   ]
  },
  {
   "cell_type": "code",
   "execution_count": 40,
   "metadata": {},
   "outputs": [],
   "source": [
    "#Using the train_test_split to create train and test sets.\n",
    "X_train, X_test, y_train, y_test = train_test_split(X, y, random_state = 47, test_size = 0.25)"
   ]
  },
  {
   "cell_type": "code",
   "execution_count": 41,
   "metadata": {},
   "outputs": [],
   "source": [
    "#Importing the Decision tree classifier from the sklearn library.\n",
    "from sklearn.tree import DecisionTreeClassifier\n",
    "clf = DecisionTreeClassifier(criterion = 'entropy')"
   ]
  },
  {
   "cell_type": "code",
   "execution_count": 42,
   "metadata": {},
   "outputs": [
    {
     "data": {
      "text/plain": [
       "DecisionTreeClassifier(ccp_alpha=0.0, class_weight=None, criterion='entropy',\n",
       "                       max_depth=None, max_features=None, max_leaf_nodes=None,\n",
       "                       min_impurity_decrease=0.0, min_impurity_split=None,\n",
       "                       min_samples_leaf=1, min_samples_split=2,\n",
       "                       min_weight_fraction_leaf=0.0, presort='deprecated',\n",
       "                       random_state=None, splitter='best')"
      ]
     },
     "execution_count": 42,
     "metadata": {},
     "output_type": "execute_result"
    }
   ],
   "source": [
    "#Training the decision tree classifier. \n",
    "clf.fit(X_train, y_train)"
   ]
  },
  {
   "cell_type": "code",
   "execution_count": 43,
   "metadata": {},
   "outputs": [],
   "source": [
    "#Predicting labels on the test set.\n",
    "y_pred =  clf.predict(X_test)"
   ]
  },
  {
   "cell_type": "code",
   "execution_count": 44,
   "metadata": {},
   "outputs": [
    {
     "name": "stdout",
     "output_type": "stream",
     "text": [
      "[0 0 1 0 0 2 1 2 1 0 2 0 1 2 2 2 1 0 0 0 2 1 2 1 2 2 1 2 0 0 2 1 2 0 2 0 0\n",
      " 0]\n"
     ]
    }
   ],
   "source": [
    "print(y_pred)"
   ]
  },
  {
   "cell_type": "code",
   "execution_count": 45,
   "metadata": {},
   "outputs": [
    {
     "name": "stdout",
     "output_type": "stream",
     "text": [
      "Accuracy Score on train data:  1.0\n",
      "Accuracy Score on test data:  0.9736842105263158\n"
     ]
    }
   ],
   "source": [
    "from sklearn.metrics import accuracy_score\n",
    "print('Accuracy Score on train data: ', accuracy_score(y_true=y_train, y_pred=clf.predict(X_train)))\n",
    "print('Accuracy Score on test data: ', accuracy_score(y_true=y_test, y_pred=y_pred))"
   ]
  },
  {
   "cell_type": "code",
   "execution_count": 46,
   "metadata": {},
   "outputs": [
    {
     "name": "stdout",
     "output_type": "stream",
     "text": [
      "Accuracy Score on train data:  0.9553571428571429\n",
      "Accuracy Score on the test data:  0.9736842105263158\n"
     ]
    }
   ],
   "source": [
    "clf = DecisionTreeClassifier(criterion='entropy', min_samples_split=50)\n",
    "clf.fit(X_train, y_train)\n",
    "print('Accuracy Score on train data: ', accuracy_score(y_true=y_train, y_pred=clf.predict(X_train)))\n",
    "print('Accuracy Score on the test data: ', accuracy_score(y_true=y_test, y_pred=clf.predict(X_test)))"
   ]
  },
  {
   "cell_type": "code",
   "execution_count": 47,
   "metadata": {},
   "outputs": [
    {
     "name": "stdout",
     "output_type": "stream",
     "text": [
      "Classes to predict:  ['malignant' 'benign']\n"
     ]
    }
   ],
   "source": [
    "from sklearn.datasets import load_breast_cancer\n",
    "data = load_breast_cancer()\n",
    "print('Classes to predict: ', data.target_names)"
   ]
  },
  {
   "cell_type": "code",
   "execution_count": 48,
   "metadata": {},
   "outputs": [
    {
     "name": "stdout",
     "output_type": "stream",
     "text": [
      "Number of examples in the data: 569\n"
     ]
    }
   ],
   "source": [
    "#Extracting data attributes\n",
    "X = data.data\n",
    "### Extracting target/ class labels\n",
    "y = data.target\n",
    "\n",
    "print('Number of examples in the data:', X.shape[0])\n",
    "#Using the train_test_split to create train and test sets.\n",
    "X_train, X_test, y_train, y_test = train_test_split(X, y, random_state = 47, test_size = 0.25)"
   ]
  },
  {
   "cell_type": "code",
   "execution_count": 49,
   "metadata": {},
   "outputs": [],
   "source": [
    "clf = DecisionTreeClassifier(criterion = 'entropy')\n"
   ]
  },
  {
   "cell_type": "code",
   "execution_count": 50,
   "metadata": {},
   "outputs": [
    {
     "data": {
      "text/plain": [
       "DecisionTreeClassifier(ccp_alpha=0.0, class_weight=None, criterion='entropy',\n",
       "                       max_depth=None, max_features=None, max_leaf_nodes=None,\n",
       "                       min_impurity_decrease=0.0, min_impurity_split=None,\n",
       "                       min_samples_leaf=1, min_samples_split=2,\n",
       "                       min_weight_fraction_leaf=0.0, presort='deprecated',\n",
       "                       random_state=None, splitter='best')"
      ]
     },
     "execution_count": 50,
     "metadata": {},
     "output_type": "execute_result"
    }
   ],
   "source": [
    "clf.fit(X_train, y_train)\n"
   ]
  },
  {
   "cell_type": "code",
   "execution_count": 51,
   "metadata": {},
   "outputs": [
    {
     "name": "stdout",
     "output_type": "stream",
     "text": [
      "[1 0 0 1 1 1 0 0 0 0 1 0 1 0 1 1 0 0 1 1 1 0 1 1 1 1 0 1 1 0 0 1 0 0 1 0 0\n",
      " 0 0 0 1 0 1 1 1 1 0 0 1 1 1 1 1 1 1 1 0 0 0 0 1 0 0 0 1 1 0 0 0 1 1 1 0 0\n",
      " 0 0 1 1 1 1 1 1 0 1 0 1 0 1 1 0 1 0 1 1 1 1 1 0 1 0 0 1 1 1 1 1 1 1 1 0 1\n",
      " 0 1 1 0 0 1 1 0 1 1 0 1 1 1 0 1 1 1 1 1 1 1 0 0 1 1 0 1 0 1 0 0]\n"
     ]
    }
   ],
   "source": [
    "y_pred =  clf.predict(X_test)\n",
    "print(y_pred)"
   ]
  },
  {
   "cell_type": "code",
   "execution_count": 52,
   "metadata": {},
   "outputs": [
    {
     "name": "stdout",
     "output_type": "stream",
     "text": [
      "Accuracy Score on train data:  1.0\n",
      "Accuracy Score on test data:  0.9090909090909091\n"
     ]
    }
   ],
   "source": [
    "from sklearn.metrics import accuracy_score\n",
    "print('Accuracy Score on train data: ', accuracy_score(y_true=y_train, y_pred=clf.predict(X_train)))\n",
    "print('Accuracy Score on test data: ', accuracy_score(y_true=y_test, y_pred=y_pred))"
   ]
  },
  {
   "cell_type": "code",
   "execution_count": 53,
   "metadata": {},
   "outputs": [
    {
     "data": {
      "text/plain": [
       "array([0.88596491, 0.92105263, 0.94736842, 0.94736842, 0.94690265])"
      ]
     },
     "execution_count": 53,
     "metadata": {},
     "output_type": "execute_result"
    }
   ],
   "source": [
    "from sklearn.model_selection import cross_val_score\n",
    "clf = DecisionTreeClassifier(criterion = 'entropy')\n",
    "scores = cross_val_score(clf, X, y, cv=5)\n",
    "scores"
   ]
  },
  {
   "cell_type": "code",
   "execution_count": 54,
   "metadata": {},
   "outputs": [
    {
     "data": {
      "text/plain": [
       "array([0.92982456, 0.85964912, 0.96491228, 0.9122807 , 0.96491228,\n",
       "       0.94736842, 0.94736842, 0.94736842, 0.96491228, 0.96428571])"
      ]
     },
     "execution_count": 54,
     "metadata": {},
     "output_type": "execute_result"
    }
   ],
   "source": [
    "scores = cross_val_score(clf, X, y, cv=10)\n",
    "scores"
   ]
  },
  {
   "cell_type": "code",
   "execution_count": 55,
   "metadata": {},
   "outputs": [
    {
     "name": "stdout",
     "output_type": "stream",
     "text": [
      "Accuracy: 0.94 (+/- 0.06)\n"
     ]
    }
   ],
   "source": [
    "print(\"Accuracy: %0.2f (+/- %0.2f)\" % (scores.mean(), scores.std() * 2))"
   ]
  },
  {
   "cell_type": "code",
   "execution_count": 56,
   "metadata": {},
   "outputs": [
    {
     "data": {
      "text/plain": [
       "array([0.93793103, 0.93150685, 0.95172414, 0.96453901, 0.95652174])"
      ]
     },
     "execution_count": 56,
     "metadata": {},
     "output_type": "execute_result"
    }
   ],
   "source": [
    "from sklearn import metrics\n",
    "scores = cross_val_score(\n",
    "    clf, X, y, cv=5, scoring='f1')\n",
    "scores"
   ]
  },
  {
   "cell_type": "code",
   "execution_count": 76,
   "metadata": {},
   "outputs": [
    {
     "name": "stdout",
     "output_type": "stream",
     "text": [
      "[[ 6.  0.  2. ...  0.  0.  0.]\n",
      " [ 4.  0.  2. ...  0.  0.  0.]\n",
      " [ 3.  0.  2. ...  0.  0.  0.]\n",
      " ...\n",
      " [ 2.  1. nan ... nan nan  1.]\n",
      " [ 0.  1. nan ... nan nan  1.]\n",
      " [ 2.  1. nan ... nan nan  1.]]\n",
      "['diaporthe-stem-canker' 'diaporthe-stem-canker' 'diaporthe-stem-canker'\n",
      " 'diaporthe-stem-canker' 'diaporthe-stem-canker' 'diaporthe-stem-canker'\n",
      " 'diaporthe-stem-canker' 'diaporthe-stem-canker' 'diaporthe-stem-canker'\n",
      " 'diaporthe-stem-canker' 'charcoal-rot' 'charcoal-rot' 'charcoal-rot'\n",
      " 'charcoal-rot' 'charcoal-rot' 'charcoal-rot' 'charcoal-rot'\n",
      " 'charcoal-rot' 'charcoal-rot' 'charcoal-rot' 'rhizoctonia-root-rot'\n",
      " 'rhizoctonia-root-rot' 'rhizoctonia-root-rot' 'rhizoctonia-root-rot'\n",
      " 'rhizoctonia-root-rot' 'rhizoctonia-root-rot' 'rhizoctonia-root-rot'\n",
      " 'rhizoctonia-root-rot' 'rhizoctonia-root-rot' 'rhizoctonia-root-rot'\n",
      " 'phytophthora-rot' 'phytophthora-rot' 'phytophthora-rot'\n",
      " 'phytophthora-rot' 'phytophthora-rot' 'phytophthora-rot'\n",
      " 'phytophthora-rot' 'phytophthora-rot' 'phytophthora-rot'\n",
      " 'phytophthora-rot' 'phytophthora-rot' 'phytophthora-rot'\n",
      " 'phytophthora-rot' 'phytophthora-rot' 'phytophthora-rot'\n",
      " 'phytophthora-rot' 'phytophthora-rot' 'phytophthora-rot'\n",
      " 'phytophthora-rot' 'phytophthora-rot' 'phytophthora-rot'\n",
      " 'phytophthora-rot' 'phytophthora-rot' 'phytophthora-rot'\n",
      " 'phytophthora-rot' 'phytophthora-rot' 'phytophthora-rot'\n",
      " 'phytophthora-rot' 'phytophthora-rot' 'phytophthora-rot'\n",
      " 'phytophthora-rot' 'phytophthora-rot' 'phytophthora-rot'\n",
      " 'phytophthora-rot' 'phytophthora-rot' 'phytophthora-rot'\n",
      " 'phytophthora-rot' 'phytophthora-rot' 'phytophthora-rot'\n",
      " 'phytophthora-rot' 'brown-stem-rot' 'brown-stem-rot' 'brown-stem-rot'\n",
      " 'brown-stem-rot' 'brown-stem-rot' 'brown-stem-rot' 'brown-stem-rot'\n",
      " 'brown-stem-rot' 'brown-stem-rot' 'brown-stem-rot' 'brown-stem-rot'\n",
      " 'brown-stem-rot' 'brown-stem-rot' 'brown-stem-rot' 'brown-stem-rot'\n",
      " 'brown-stem-rot' 'brown-stem-rot' 'brown-stem-rot' 'brown-stem-rot'\n",
      " 'brown-stem-rot' 'powdery-mildew' 'powdery-mildew' 'powdery-mildew'\n",
      " 'powdery-mildew' 'powdery-mildew' 'powdery-mildew' 'powdery-mildew'\n",
      " 'powdery-mildew' 'powdery-mildew' 'powdery-mildew' 'downy-mildew'\n",
      " 'downy-mildew' 'downy-mildew' 'downy-mildew' 'downy-mildew'\n",
      " 'downy-mildew' 'downy-mildew' 'downy-mildew' 'downy-mildew'\n",
      " 'downy-mildew' 'brown-spot' 'brown-spot' 'brown-spot' 'brown-spot'\n",
      " 'brown-spot' 'brown-spot' 'brown-spot' 'brown-spot' 'brown-spot'\n",
      " 'brown-spot' 'brown-spot' 'brown-spot' 'brown-spot' 'brown-spot'\n",
      " 'brown-spot' 'brown-spot' 'brown-spot' 'brown-spot' 'brown-spot'\n",
      " 'brown-spot' 'brown-spot' 'brown-spot' 'brown-spot' 'brown-spot'\n",
      " 'brown-spot' 'brown-spot' 'brown-spot' 'brown-spot' 'brown-spot'\n",
      " 'brown-spot' 'brown-spot' 'brown-spot' 'brown-spot' 'brown-spot'\n",
      " 'brown-spot' 'brown-spot' 'brown-spot' 'brown-spot' 'brown-spot'\n",
      " 'brown-spot' 'bacterial-blight' 'bacterial-blight' 'bacterial-blight'\n",
      " 'bacterial-blight' 'bacterial-blight' 'bacterial-blight'\n",
      " 'bacterial-blight' 'bacterial-blight' 'bacterial-blight'\n",
      " 'bacterial-blight' 'bacterial-pustule' 'bacterial-pustule'\n",
      " 'bacterial-pustule' 'bacterial-pustule' 'bacterial-pustule'\n",
      " 'bacterial-pustule' 'bacterial-pustule' 'bacterial-pustule'\n",
      " 'bacterial-pustule' 'bacterial-pustule' 'purple-seed-stain'\n",
      " 'purple-seed-stain' 'purple-seed-stain' 'purple-seed-stain'\n",
      " 'purple-seed-stain' 'purple-seed-stain' 'purple-seed-stain'\n",
      " 'purple-seed-stain' 'purple-seed-stain' 'purple-seed-stain' 'anthracnose'\n",
      " 'anthracnose' 'anthracnose' 'anthracnose' 'anthracnose' 'anthracnose'\n",
      " 'anthracnose' 'anthracnose' 'anthracnose' 'anthracnose' 'anthracnose'\n",
      " 'anthracnose' 'anthracnose' 'anthracnose' 'anthracnose' 'anthracnose'\n",
      " 'anthracnose' 'anthracnose' 'anthracnose' 'anthracnose'\n",
      " 'phyllosticta-leaf-spot' 'phyllosticta-leaf-spot'\n",
      " 'phyllosticta-leaf-spot' 'phyllosticta-leaf-spot'\n",
      " 'phyllosticta-leaf-spot' 'phyllosticta-leaf-spot'\n",
      " 'phyllosticta-leaf-spot' 'phyllosticta-leaf-spot'\n",
      " 'phyllosticta-leaf-spot' 'phyllosticta-leaf-spot' 'alternarialeaf-spot'\n",
      " 'alternarialeaf-spot' 'alternarialeaf-spot' 'alternarialeaf-spot'\n",
      " 'alternarialeaf-spot' 'alternarialeaf-spot' 'alternarialeaf-spot'\n",
      " 'alternarialeaf-spot' 'alternarialeaf-spot' 'alternarialeaf-spot'\n",
      " 'alternarialeaf-spot' 'alternarialeaf-spot' 'alternarialeaf-spot'\n",
      " 'alternarialeaf-spot' 'alternarialeaf-spot' 'alternarialeaf-spot'\n",
      " 'alternarialeaf-spot' 'alternarialeaf-spot' 'alternarialeaf-spot'\n",
      " 'alternarialeaf-spot' 'alternarialeaf-spot' 'alternarialeaf-spot'\n",
      " 'alternarialeaf-spot' 'alternarialeaf-spot' 'alternarialeaf-spot'\n",
      " 'alternarialeaf-spot' 'alternarialeaf-spot' 'alternarialeaf-spot'\n",
      " 'alternarialeaf-spot' 'alternarialeaf-spot' 'alternarialeaf-spot'\n",
      " 'alternarialeaf-spot' 'alternarialeaf-spot' 'alternarialeaf-spot'\n",
      " 'alternarialeaf-spot' 'alternarialeaf-spot' 'alternarialeaf-spot'\n",
      " 'alternarialeaf-spot' 'alternarialeaf-spot' 'alternarialeaf-spot'\n",
      " 'frog-eye-leaf-spot' 'frog-eye-leaf-spot' 'frog-eye-leaf-spot'\n",
      " 'frog-eye-leaf-spot' 'frog-eye-leaf-spot' 'frog-eye-leaf-spot'\n",
      " 'frog-eye-leaf-spot' 'frog-eye-leaf-spot' 'frog-eye-leaf-spot'\n",
      " 'frog-eye-leaf-spot' 'frog-eye-leaf-spot' 'frog-eye-leaf-spot'\n",
      " 'frog-eye-leaf-spot' 'frog-eye-leaf-spot' 'frog-eye-leaf-spot'\n",
      " 'frog-eye-leaf-spot' 'frog-eye-leaf-spot' 'frog-eye-leaf-spot'\n",
      " 'frog-eye-leaf-spot' 'frog-eye-leaf-spot' 'frog-eye-leaf-spot'\n",
      " 'frog-eye-leaf-spot' 'frog-eye-leaf-spot' 'frog-eye-leaf-spot'\n",
      " 'frog-eye-leaf-spot' 'frog-eye-leaf-spot' 'frog-eye-leaf-spot'\n",
      " 'frog-eye-leaf-spot' 'frog-eye-leaf-spot' 'frog-eye-leaf-spot'\n",
      " 'frog-eye-leaf-spot' 'frog-eye-leaf-spot' 'frog-eye-leaf-spot'\n",
      " 'frog-eye-leaf-spot' 'frog-eye-leaf-spot' 'frog-eye-leaf-spot'\n",
      " 'frog-eye-leaf-spot' 'frog-eye-leaf-spot' 'frog-eye-leaf-spot'\n",
      " 'frog-eye-leaf-spot' 'diaporthe-pod-&-stem-blight'\n",
      " 'diaporthe-pod-&-stem-blight' 'diaporthe-pod-&-stem-blight'\n",
      " 'diaporthe-pod-&-stem-blight' 'diaporthe-pod-&-stem-blight'\n",
      " 'diaporthe-pod-&-stem-blight' 'cyst-nematode' 'cyst-nematode'\n",
      " 'cyst-nematode' 'cyst-nematode' 'cyst-nematode' 'cyst-nematode'\n",
      " '2-4-d-injury' 'herbicide-injury' 'herbicide-injury' 'herbicide-injury'\n",
      " 'herbicide-injury' 'diaporthe-stem-canker' 'diaporthe-stem-canker'\n",
      " 'diaporthe-stem-canker' 'diaporthe-stem-canker' 'diaporthe-stem-canker'\n",
      " 'diaporthe-stem-canker' 'diaporthe-stem-canker' 'diaporthe-stem-canker'\n",
      " 'diaporthe-stem-canker' 'diaporthe-stem-canker' 'charcoal-rot'\n",
      " 'charcoal-rot' 'charcoal-rot' 'charcoal-rot' 'charcoal-rot'\n",
      " 'charcoal-rot' 'charcoal-rot' 'charcoal-rot' 'charcoal-rot'\n",
      " 'charcoal-rot' 'rhizoctonia-root-rot' 'rhizoctonia-root-rot'\n",
      " 'rhizoctonia-root-rot' 'rhizoctonia-root-rot' 'rhizoctonia-root-rot'\n",
      " 'rhizoctonia-root-rot' 'rhizoctonia-root-rot' 'rhizoctonia-root-rot'\n",
      " 'rhizoctonia-root-rot' 'rhizoctonia-root-rot' 'phytophthora-rot'\n",
      " 'phytophthora-rot' 'phytophthora-rot' 'phytophthora-rot'\n",
      " 'phytophthora-rot' 'phytophthora-rot' 'phytophthora-rot'\n",
      " 'phytophthora-rot' 'phytophthora-rot' 'phytophthora-rot'\n",
      " 'phytophthora-rot' 'phytophthora-rot' 'phytophthora-rot'\n",
      " 'phytophthora-rot' 'phytophthora-rot' 'phytophthora-rot'\n",
      " 'phytophthora-rot' 'phytophthora-rot' 'phytophthora-rot'\n",
      " 'phytophthora-rot' 'phytophthora-rot' 'phytophthora-rot'\n",
      " 'phytophthora-rot' 'phytophthora-rot' 'phytophthora-rot'\n",
      " 'phytophthora-rot' 'phytophthora-rot' 'phytophthora-rot'\n",
      " 'phytophthora-rot' 'phytophthora-rot' 'phytophthora-rot'\n",
      " 'phytophthora-rot' 'phytophthora-rot' 'phytophthora-rot'\n",
      " 'phytophthora-rot' 'phytophthora-rot' 'phytophthora-rot'\n",
      " 'phytophthora-rot' 'phytophthora-rot' 'phytophthora-rot'\n",
      " 'phytophthora-rot' 'phytophthora-rot' 'phytophthora-rot'\n",
      " 'phytophthora-rot' 'phytophthora-rot' 'phytophthora-rot'\n",
      " 'phytophthora-rot' 'phytophthora-rot' 'brown-stem-rot' 'brown-stem-rot'\n",
      " 'brown-stem-rot' 'brown-stem-rot' 'brown-stem-rot' 'brown-stem-rot'\n",
      " 'brown-stem-rot' 'brown-stem-rot' 'brown-stem-rot' 'brown-stem-rot'\n",
      " 'brown-stem-rot' 'brown-stem-rot' 'brown-stem-rot' 'brown-stem-rot'\n",
      " 'brown-stem-rot' 'brown-stem-rot' 'brown-stem-rot' 'brown-stem-rot'\n",
      " 'brown-stem-rot' 'brown-stem-rot' 'brown-stem-rot' 'brown-stem-rot'\n",
      " 'brown-stem-rot' 'brown-stem-rot' 'powdery-mildew' 'powdery-mildew'\n",
      " 'powdery-mildew' 'powdery-mildew' 'powdery-mildew' 'powdery-mildew'\n",
      " 'powdery-mildew' 'powdery-mildew' 'powdery-mildew' 'powdery-mildew'\n",
      " 'downy-mildew' 'downy-mildew' 'downy-mildew' 'downy-mildew'\n",
      " 'downy-mildew' 'downy-mildew' 'downy-mildew' 'downy-mildew'\n",
      " 'downy-mildew' 'downy-mildew' 'brown-spot' 'brown-spot' 'brown-spot'\n",
      " 'brown-spot' 'brown-spot' 'brown-spot' 'brown-spot' 'brown-spot'\n",
      " 'brown-spot' 'brown-spot' 'brown-spot' 'brown-spot' 'brown-spot'\n",
      " 'brown-spot' 'brown-spot' 'brown-spot' 'brown-spot' 'brown-spot'\n",
      " 'brown-spot' 'brown-spot' 'brown-spot' 'brown-spot' 'brown-spot'\n",
      " 'brown-spot' 'brown-spot' 'brown-spot' 'brown-spot' 'brown-spot'\n",
      " 'brown-spot' 'brown-spot' 'brown-spot' 'brown-spot' 'brown-spot'\n",
      " 'brown-spot' 'brown-spot' 'brown-spot' 'brown-spot' 'brown-spot'\n",
      " 'brown-spot' 'brown-spot' 'brown-spot' 'brown-spot' 'brown-spot'\n",
      " 'brown-spot' 'brown-spot' 'brown-spot' 'brown-spot' 'brown-spot'\n",
      " 'brown-spot' 'brown-spot' 'brown-spot' 'brown-spot' 'bacterial-blight'\n",
      " 'bacterial-blight' 'bacterial-blight' 'bacterial-blight'\n",
      " 'bacterial-blight' 'bacterial-blight' 'bacterial-blight'\n",
      " 'bacterial-blight' 'bacterial-blight' 'bacterial-blight'\n",
      " 'bacterial-pustule' 'bacterial-pustule' 'bacterial-pustule'\n",
      " 'bacterial-pustule' 'bacterial-pustule' 'bacterial-pustule'\n",
      " 'bacterial-pustule' 'bacterial-pustule' 'bacterial-pustule'\n",
      " 'bacterial-pustule' 'purple-seed-stain' 'purple-seed-stain'\n",
      " 'purple-seed-stain' 'purple-seed-stain' 'purple-seed-stain'\n",
      " 'purple-seed-stain' 'purple-seed-stain' 'purple-seed-stain'\n",
      " 'purple-seed-stain' 'purple-seed-stain' 'anthracnose' 'anthracnose'\n",
      " 'anthracnose' 'anthracnose' 'anthracnose' 'anthracnose' 'anthracnose'\n",
      " 'anthracnose' 'anthracnose' 'anthracnose' 'anthracnose' 'anthracnose'\n",
      " 'anthracnose' 'anthracnose' 'anthracnose' 'anthracnose' 'anthracnose'\n",
      " 'anthracnose' 'anthracnose' 'anthracnose' 'anthracnose' 'anthracnose'\n",
      " 'anthracnose' 'anthracnose' 'phyllosticta-leaf-spot'\n",
      " 'phyllosticta-leaf-spot' 'phyllosticta-leaf-spot'\n",
      " 'phyllosticta-leaf-spot' 'phyllosticta-leaf-spot'\n",
      " 'phyllosticta-leaf-spot' 'phyllosticta-leaf-spot'\n",
      " 'phyllosticta-leaf-spot' 'phyllosticta-leaf-spot'\n",
      " 'phyllosticta-leaf-spot' 'alternarialeaf-spot' 'alternarialeaf-spot'\n",
      " 'alternarialeaf-spot' 'alternarialeaf-spot' 'alternarialeaf-spot'\n",
      " 'alternarialeaf-spot' 'alternarialeaf-spot' 'alternarialeaf-spot'\n",
      " 'alternarialeaf-spot' 'alternarialeaf-spot' 'alternarialeaf-spot'\n",
      " 'alternarialeaf-spot' 'alternarialeaf-spot' 'alternarialeaf-spot'\n",
      " 'alternarialeaf-spot' 'alternarialeaf-spot' 'alternarialeaf-spot'\n",
      " 'alternarialeaf-spot' 'alternarialeaf-spot' 'alternarialeaf-spot'\n",
      " 'alternarialeaf-spot' 'alternarialeaf-spot' 'alternarialeaf-spot'\n",
      " 'alternarialeaf-spot' 'alternarialeaf-spot' 'alternarialeaf-spot'\n",
      " 'alternarialeaf-spot' 'alternarialeaf-spot' 'alternarialeaf-spot'\n",
      " 'alternarialeaf-spot' 'alternarialeaf-spot' 'alternarialeaf-spot'\n",
      " 'alternarialeaf-spot' 'alternarialeaf-spot' 'alternarialeaf-spot'\n",
      " 'alternarialeaf-spot' 'alternarialeaf-spot' 'alternarialeaf-spot'\n",
      " 'alternarialeaf-spot' 'alternarialeaf-spot' 'alternarialeaf-spot'\n",
      " 'alternarialeaf-spot' 'alternarialeaf-spot' 'alternarialeaf-spot'\n",
      " 'alternarialeaf-spot' 'alternarialeaf-spot' 'alternarialeaf-spot'\n",
      " 'alternarialeaf-spot' 'alternarialeaf-spot' 'alternarialeaf-spot'\n",
      " 'alternarialeaf-spot' 'frog-eye-leaf-spot' 'frog-eye-leaf-spot'\n",
      " 'frog-eye-leaf-spot' 'frog-eye-leaf-spot' 'frog-eye-leaf-spot'\n",
      " 'frog-eye-leaf-spot' 'frog-eye-leaf-spot' 'frog-eye-leaf-spot'\n",
      " 'frog-eye-leaf-spot' 'frog-eye-leaf-spot' 'frog-eye-leaf-spot'\n",
      " 'frog-eye-leaf-spot' 'frog-eye-leaf-spot' 'frog-eye-leaf-spot'\n",
      " 'frog-eye-leaf-spot' 'frog-eye-leaf-spot' 'frog-eye-leaf-spot'\n",
      " 'frog-eye-leaf-spot' 'frog-eye-leaf-spot' 'frog-eye-leaf-spot'\n",
      " 'frog-eye-leaf-spot' 'frog-eye-leaf-spot' 'frog-eye-leaf-spot'\n",
      " 'frog-eye-leaf-spot' 'frog-eye-leaf-spot' 'frog-eye-leaf-spot'\n",
      " 'frog-eye-leaf-spot' 'frog-eye-leaf-spot' 'frog-eye-leaf-spot'\n",
      " 'frog-eye-leaf-spot' 'frog-eye-leaf-spot' 'frog-eye-leaf-spot'\n",
      " 'frog-eye-leaf-spot' 'frog-eye-leaf-spot' 'frog-eye-leaf-spot'\n",
      " 'frog-eye-leaf-spot' 'frog-eye-leaf-spot' 'frog-eye-leaf-spot'\n",
      " 'frog-eye-leaf-spot' 'frog-eye-leaf-spot' 'frog-eye-leaf-spot'\n",
      " 'frog-eye-leaf-spot' 'frog-eye-leaf-spot' 'frog-eye-leaf-spot'\n",
      " 'frog-eye-leaf-spot' 'frog-eye-leaf-spot' 'frog-eye-leaf-spot'\n",
      " 'frog-eye-leaf-spot' 'frog-eye-leaf-spot' 'frog-eye-leaf-spot'\n",
      " 'frog-eye-leaf-spot' 'diaporthe-pod-&-stem-blight'\n",
      " 'diaporthe-pod-&-stem-blight' 'diaporthe-pod-&-stem-blight'\n",
      " 'diaporthe-pod-&-stem-blight' 'diaporthe-pod-&-stem-blight'\n",
      " 'diaporthe-pod-&-stem-blight' 'diaporthe-pod-&-stem-blight'\n",
      " 'diaporthe-pod-&-stem-blight' 'diaporthe-pod-&-stem-blight'\n",
      " 'cyst-nematode' 'cyst-nematode' 'cyst-nematode' 'cyst-nematode'\n",
      " 'cyst-nematode' 'cyst-nematode' 'cyst-nematode' 'cyst-nematode'\n",
      " '2-4-d-injury' '2-4-d-injury' '2-4-d-injury' '2-4-d-injury'\n",
      " '2-4-d-injury' '2-4-d-injury' '2-4-d-injury' '2-4-d-injury'\n",
      " '2-4-d-injury' '2-4-d-injury' '2-4-d-injury' '2-4-d-injury'\n",
      " '2-4-d-injury' '2-4-d-injury' '2-4-d-injury' 'herbicide-injury'\n",
      " 'herbicide-injury' 'herbicide-injury' 'herbicide-injury']\n",
      "[[6.         0.         2.         ... 0.         0.         0.        ]\n",
      " [4.         0.         2.         ... 0.         0.         0.        ]\n",
      " [3.         0.         2.         ... 0.         0.         0.        ]\n",
      " ...\n",
      " [2.         1.         1.59689922 ... 0.0998308  0.06585789 1.        ]\n",
      " [0.         1.         1.59689922 ... 0.0998308  0.06585789 1.        ]\n",
      " [2.         1.         1.59689922 ... 0.0998308  0.06585789 1.        ]]\n"
     ]
    }
   ],
   "source": [
    "from sklearn.datasets import fetch_openml\n",
    "soybean = fetch_openml(name='soybean', version=1)\n",
    "X = soybean.data\n",
    "y = soybean.target\n",
    "print(X)\n",
    "print(y)\n",
    "\n",
    "from sklearn.impute import SimpleImputer\n",
    "imp = SimpleImputer(missing_values=np.nan, strategy='mean')\n",
    "imp.fit(X)\n",
    "X = imp.transform(X)\n",
    "print(X)"
   ]
  },
  {
   "cell_type": "code",
   "execution_count": 79,
   "metadata": {},
   "outputs": [
    {
     "data": {
      "text/plain": [
       "array([0.94160584, 0.91240876, 0.86131387, 0.91911765, 0.94852941])"
      ]
     },
     "execution_count": 79,
     "metadata": {},
     "output_type": "execute_result"
    }
   ],
   "source": [
    "from sklearn.model_selection import cross_val_score\n",
    "clf = DecisionTreeClassifier(criterion = 'entropy')\n",
    "scores = cross_val_score(clf, X, y, cv=5)\n",
    "scores"
   ]
  },
  {
   "cell_type": "code",
   "execution_count": null,
   "metadata": {},
   "outputs": [],
   "source": []
  },
  {
   "cell_type": "code",
   "execution_count": null,
   "metadata": {},
   "outputs": [],
   "source": []
  }
 ],
 "metadata": {
  "kernelspec": {
   "display_name": "Python 3",
   "language": "python",
   "name": "python3"
  },
  "language_info": {
   "codemirror_mode": {
    "name": "ipython",
    "version": 3
   },
   "file_extension": ".py",
   "mimetype": "text/x-python",
   "name": "python",
   "nbconvert_exporter": "python",
   "pygments_lexer": "ipython3",
   "version": "3.8.5"
  }
 },
 "nbformat": 4,
 "nbformat_minor": 4
}
